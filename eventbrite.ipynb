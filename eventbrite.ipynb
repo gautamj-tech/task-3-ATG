{
  "nbformat": 4,
  "nbformat_minor": 0,
  "metadata": {
    "colab": {
      "name": "Untitled3.ipynb",
      "provenance": []
    },
    "kernelspec": {
      "name": "python3",
      "display_name": "Python 3"
    }
  },
  "cells": [
    {
      "cell_type": "code",
      "metadata": {
        "id": "1qOnqBbqQLIV"
      },
      "source": [
        "from bs4 import BeautifulSoup"
      ],
      "execution_count": 3,
      "outputs": []
    },
    {
      "cell_type": "code",
      "metadata": {
        "id": "ewD_NzbpQl3m"
      },
      "source": [
        "import requests"
      ],
      "execution_count": 4,
      "outputs": []
    },
    {
      "cell_type": "code",
      "metadata": {
        "id": "me1y6r6GQq5Y"
      },
      "source": [
        "url='https://www.eventbrite.com/d/online/events/'"
      ],
      "execution_count": 67,
      "outputs": []
    },
    {
      "cell_type": "code",
      "metadata": {
        "id": "4evjCC6STUtH"
      },
      "source": [
        "base_url='https://www.eventbrite.com'"
      ],
      "execution_count": 68,
      "outputs": []
    },
    {
      "cell_type": "code",
      "metadata": {
        "colab": {
          "base_uri": "https://localhost:8080/"
        },
        "id": "GcwmA2kQTMr2",
        "outputId": "b9266f52-5557-4ce3-b202-c0ad65c3f391"
      },
      "source": [
        "len(base_url)"
      ],
      "execution_count": 69,
      "outputs": [
        {
          "output_type": "execute_result",
          "data": {
            "text/plain": [
              "26"
            ]
          },
          "metadata": {
            "tags": []
          },
          "execution_count": 69
        }
      ]
    },
    {
      "cell_type": "code",
      "metadata": {
        "id": "wc3TsGzkRH3k",
        "colab": {
          "base_uri": "https://localhost:8080/"
        },
        "outputId": "39a510fc-7b61-43e5-aee1-141e5908e5fa"
      },
      "source": [
        "r=requests.get(url)\r\n",
        "soup=BeautifulSoup(r.content,'lxml')\r\n",
        "print(soup.title.text)"
      ],
      "execution_count": 70,
      "outputs": [
        {
          "output_type": "stream",
          "text": [
            "\n",
            "    Online Events | Attend Virtual Events From Home | Eventbrite\n",
            "\n"
          ],
          "name": "stdout"
        }
      ]
    },
    {
      "cell_type": "code",
      "metadata": {
        "id": "jnCzpd4hIZ1T"
      },
      "source": [
        "headers={\r\n",
        "   'User-Agent': 'Mozilla/5.0 (Windows NT 10.0; Win64; x64) AppleWebKit/537.36 (KHTML, like Gecko) Chrome/74.0.3729.169 Safari/537.36'\r\n",
        "}"
      ],
      "execution_count": 7,
      "outputs": []
    },
    {
      "cell_type": "code",
      "metadata": {
        "id": "KqlBHoGgInE7"
      },
      "source": [
        "title=[]\r\n",
        "genre=[]\r\n",
        "mrp=[]\r\n",
        "schedule=[]\r\n",
        "url=[]\r\n"
      ],
      "execution_count": 41,
      "outputs": []
    },
    {
      "cell_type": "code",
      "metadata": {
        "id": "mOc6cVxFSRyC"
      },
      "source": [
        "int_url=[]"
      ],
      "execution_count": 59,
      "outputs": []
    },
    {
      "cell_type": "code",
      "metadata": {
        "id": "eAlse-ULOEf6"
      },
      "source": [
        ""
      ],
      "execution_count": 41,
      "outputs": []
    },
    {
      "cell_type": "code",
      "metadata": {
        "id": "VAwfnCULI6fV"
      },
      "source": [
        "def remove(string): \r\n",
        "    #c=string.replace(\" \", \"\") \r\n",
        "    d=string.replace(\"\\n\",\"\")\r\n",
        "    return d.replace(\"\\t\",\"\")"
      ],
      "execution_count": 42,
      "outputs": []
    },
    {
      "cell_type": "code",
      "metadata": {
        "id": "0_lNen41JcKq"
      },
      "source": [
        "x=[]\r\n",
        "list=soup.find_all('h3',class_='eds-event-card-content__title eds-text-color--ui-800 eds-text-bl eds-text-weight--heavy')\r\n",
        "for i in list[:18]:\r\n",
        "  x.append(remove(i.text))\r\n",
        "  title=x[8:]\r\n"
      ],
      "execution_count": 85,
      "outputs": []
    },
    {
      "cell_type": "code",
      "metadata": {
        "colab": {
          "base_uri": "https://localhost:8080/"
        },
        "id": "tPT6epqiJ72h",
        "outputId": "18ce0778-46c2-479a-ca0c-bf2f6c7d3d01"
      },
      "source": [
        "title"
      ],
      "execution_count": 44,
      "outputs": [
        {
          "output_type": "execute_result",
          "data": {
            "text/plain": [
              "['Valentines Day Virtual Beer FestivalValentines Day Virtual Beer Festival',\n",
              " \"Keith Barry's Virtual Valentines Brainhacking ShowKeith Barry's Virtual Valentines Brainhacking Show\",\n",
              " 'Begin your Tai Chi journey: An introduction to essential Tai Chi skillsBegin your Tai Chi journey: An introduction to essential Tai Chi skills',\n",
              " 'Bill Gates - How to Avoid a Climate DisasterBill Gates - How to Avoid a Climate Disaster',\n",
              " 'Mark Cocker on Crows - Zoom LectureMark Cocker on Crows - Zoom Lecture',\n",
              " 'Mother Tongue: The Philosophy of Malcolm XMother Tongue: The Philosophy of Malcolm X',\n",
              " 'The Money & Relationship HotlineThe Money & Relationship Hotline',\n",
              " 'An evening with Kazuo IshiguroAn evening with Kazuo Ishiguro',\n",
              " 'adrienne maree brown on Pleasure Activism: A Live Online Conversationadrienne maree brown on Pleasure Activism: A Live Online Conversation',\n",
              " 'Tony Baker & FriendsTony Baker & Friends']"
            ]
          },
          "metadata": {
            "tags": []
          },
          "execution_count": 44
        }
      ]
    },
    {
      "cell_type": "code",
      "metadata": {
        "colab": {
          "base_uri": "https://localhost:8080/"
        },
        "id": "yKzr6qOFJ9a4",
        "outputId": "7ec9c012-9b74-4430-a996-6f66927b64e1"
      },
      "source": [
        "x=[]\r\n",
        "list=soup.find_all('div',class_='eds-event-card-content__primary-content')\r\n",
        "count=0\r\n",
        "for i in list[:18]:\r\n",
        "  for link in i.find_all('a',href=True):\r\n",
        "    x.append(link['href'])\r\n",
        "    url=x[8:]\r\n",
        "print(len(url))\r\n"
      ],
      "execution_count": 86,
      "outputs": [
        {
          "output_type": "stream",
          "text": [
            "10\n"
          ],
          "name": "stdout"
        }
      ]
    },
    {
      "cell_type": "code",
      "metadata": {
        "colab": {
          "base_uri": "https://localhost:8080/"
        },
        "id": "ZdqkKeM1LaiB",
        "outputId": "bcbd6bda-b846-4a60-83a0-ca756d6bc7ae"
      },
      "source": [
        "url"
      ],
      "execution_count": 48,
      "outputs": [
        {
          "output_type": "execute_result",
          "data": {
            "text/plain": [
              "['https://www.eventbrite.com/e/valentines-day-virtual-beer-festival-tickets-136831499699?aff=ebdssbonlinebrowse',\n",
              " 'https://www.eventbrite.ie/e/keith-barrys-virtual-valentines-brainhacking-show-tickets-137179077313?aff=ebdssbonlinebrowse',\n",
              " 'https://www.eventbrite.com/e/begin-your-tai-chi-journey-an-introduction-to-essential-tai-chi-skills-tickets-121038039033?aff=ebdssbonlinebrowse',\n",
              " 'https://www.eventbrite.co.uk/e/bill-gates-how-to-avoid-a-climate-disaster-tickets-135376658229?aff=ebdssbonlinebrowse',\n",
              " 'https://www.eventbrite.co.uk/e/mark-cocker-on-crows-zoom-lecture-tickets-132260668219?aff=ebdssbonlinebrowse',\n",
              " 'https://www.eventbrite.com/e/mother-tongue-the-philosophy-of-malcolm-x-registration-137978271725?aff=ebdssbonlinebrowse',\n",
              " 'https://www.eventbrite.com/e/the-money-relationship-hotline-tickets-135559436925?aff=ebdssbonlinebrowse',\n",
              " 'https://www.eventbrite.co.uk/e/an-evening-with-kazuo-ishiguro-tickets-132965476319?aff=ebdssbonlinebrowse',\n",
              " 'https://www.eventbrite.com/e/adrienne-maree-brown-on-pleasure-activism-a-live-online-conversation-tickets-131265728327?aff=ebdssbonlinebrowse',\n",
              " 'https://www.eventbrite.com/e/tony-baker-friends-tickets-138873645813?aff=ebdssbonlinebrowse']"
            ]
          },
          "metadata": {
            "tags": []
          },
          "execution_count": 48
        }
      ]
    },
    {
      "cell_type": "code",
      "metadata": {
        "colab": {
          "base_uri": "https://localhost:8080/"
        },
        "id": "iDySLZRYM02I",
        "outputId": "11dc04f0-c45f-46a4-afe6-fd2e90e71f0a"
      },
      "source": [
        "\r\n",
        "x=[]\r\n",
        "list=soup.find_all('div',class_='eds-event-card-content__primary-content')\r\n",
        "count=0\r\n",
        "for i in list[:18]:\r\n",
        "  for link in i.find_all('div',class_='eds-text-color--primary-brand eds-l-pad-bot-1 eds-text-weight--heavy eds-text-bm'):\r\n",
        "    x.append(link.text)\r\n",
        "    schedule=x[8:]\r\n",
        "print(len(schedule))\r\n"
      ],
      "execution_count": 87,
      "outputs": [
        {
          "output_type": "stream",
          "text": [
            "10\n"
          ],
          "name": "stdout"
        }
      ]
    },
    {
      "cell_type": "code",
      "metadata": {
        "colab": {
          "base_uri": "https://localhost:8080/"
        },
        "id": "Lu93c7ubN-9F",
        "outputId": "204df9a7-ac9c-4c98-fce1-6982bb9f647d"
      },
      "source": [
        "schedule"
      ],
      "execution_count": 55,
      "outputs": [
        {
          "output_type": "execute_result",
          "data": {
            "text/plain": [
              "['Sat, Feb 13, 2021 8:00 PM PST (-08:00)',\n",
              " 'Sun, Feb 14, 2021 9:00 PM GMT (+00:00)',\n",
              " 'Sun, Feb 14, 2021 10:00 AM EST (-05:00) + 5 more events',\n",
              " 'Wed, Feb 17, 2021 7:00 PM GMT (+00:00)',\n",
              " 'Sun, Feb 21, 2021 8:00 PM GMT (+00:00)',\n",
              " 'Mon, Feb 22, 2021 6:30 PM EST (-05:00)',\n",
              " 'Thu, Feb 25, 2021 6:30 PM EST (-05:00)',\n",
              " 'Tue, Mar 2, 2021 7:00 PM GMT (+00:00)',\n",
              " 'Fri, Feb 12, 2021 6:00 PM PST (-08:00)',\n",
              " 'Fri, Feb 12, 2021 7:00 PM PST (-08:00)']"
            ]
          },
          "metadata": {
            "tags": []
          },
          "execution_count": 55
        }
      ]
    },
    {
      "cell_type": "code",
      "metadata": {
        "id": "Pzc_RqxEPepD"
      },
      "source": [
        "import sqlite3"
      ],
      "execution_count": 56,
      "outputs": []
    },
    {
      "cell_type": "code",
      "metadata": {
        "id": "S58wraicRu5Y"
      },
      "source": [
        "dummy=[]\r\n",
        "list=soup.find_all('body')\r\n",
        "for i in list:\r\n",
        "  for link in i.find_all('a',href=True):\r\n",
        "      dummy.append(link['href'])"
      ],
      "execution_count": 57,
      "outputs": []
    },
    {
      "cell_type": "code",
      "metadata": {
        "colab": {
          "base_uri": "https://localhost:8080/"
        },
        "id": "6uWOBJvBSDjs",
        "outputId": "f14b1ebd-2af9-4b12-d900-102be9cf2235"
      },
      "source": [
        "len(dummy)"
      ],
      "execution_count": 58,
      "outputs": [
        {
          "output_type": "execute_result",
          "data": {
            "text/plain": [
              "448"
            ]
          },
          "metadata": {
            "tags": []
          },
          "execution_count": 58
        }
      ]
    },
    {
      "cell_type": "code",
      "metadata": {
        "id": "EPET4JD2SFrd"
      },
      "source": [
        "list=soup.find_all('div',class_='eds-event-card-content__primary-content')\r\n",
        "count=0\r\n",
        "for i in list:\r\n",
        "  for link in i.find_all('a',href=True):\r\n",
        "    int_url.append(link['href'])"
      ],
      "execution_count": 60,
      "outputs": []
    },
    {
      "cell_type": "code",
      "metadata": {
        "colab": {
          "base_uri": "https://localhost:8080/"
        },
        "id": "JUs5sSe0Skyb",
        "outputId": "fb2ffdd2-fcb9-4032-9a3c-b8854dab5b21"
      },
      "source": [
        "len(int_url)"
      ],
      "execution_count": 61,
      "outputs": [
        {
          "output_type": "execute_result",
          "data": {
            "text/plain": [
              "160"
            ]
          },
          "metadata": {
            "tags": []
          },
          "execution_count": 61
        }
      ]
    },
    {
      "cell_type": "code",
      "metadata": {
        "colab": {
          "base_uri": "https://localhost:8080/"
        },
        "id": "g-VTNNKSSmtG",
        "outputId": "97722361-c691-4c27-9745-f3ddcd19b1f4"
      },
      "source": [
        "res = [ i for i in dummy ]\r\n",
        "\r\n",
        "for i in int_url:\r\n",
        "  if i in dummy:\r\n",
        "    res.remove(i)\r\n",
        "\r\n",
        "print(len(res))"
      ],
      "execution_count": 62,
      "outputs": [
        {
          "output_type": "stream",
          "text": [
            "288\n"
          ],
          "name": "stdout"
        }
      ]
    },
    {
      "cell_type": "code",
      "metadata": {
        "colab": {
          "base_uri": "https://localhost:8080/"
        },
        "id": "ZziieLiLS5bd",
        "outputId": "83dc53cd-6c9f-4edc-aa36-b73adb84fec7"
      },
      "source": [
        "res[:10]"
      ],
      "execution_count": 63,
      "outputs": [
        {
          "output_type": "execute_result",
          "data": {
            "text/plain": [
              "['/cookies/',\n",
              " '#skip-heading',\n",
              " 'https://www.eventbrite.com',\n",
              " 'https://www.eventbrite.com/login/?referrer=%2F',\n",
              " 'https://www.eventbrite.com',\n",
              " 'https://www.eventbrite.com/login/?referrer=%2F',\n",
              " '/c/cwykwry',\n",
              " '/c/cwwzzcp',\n",
              " '/c/cwxbtcw',\n",
              " '/c/cwwrdbd']"
            ]
          },
          "metadata": {
            "tags": []
          },
          "execution_count": 63
        }
      ]
    },
    {
      "cell_type": "code",
      "metadata": {
        "id": "mYkouqrbTwU3"
      },
      "source": [
        "non_url=[]"
      ],
      "execution_count": 80,
      "outputs": []
    },
    {
      "cell_type": "code",
      "metadata": {
        "id": "B7B82vKfS_Yj"
      },
      "source": [
        "def add(l):\r\n",
        "  for i in l:\r\n",
        "    if i[0]=='#':\r\n",
        "      non_url.append(i)\r\n",
        "    elif i[:26]!=base_url:\r\n",
        "      non_url.append(base_url+i)\r\n",
        "    else:\r\n",
        "      non_url.append(i)"
      ],
      "execution_count": 81,
      "outputs": []
    },
    {
      "cell_type": "code",
      "metadata": {
        "id": "LLAXVHgzT2tv"
      },
      "source": [
        "add(res)"
      ],
      "execution_count": 82,
      "outputs": []
    },
    {
      "cell_type": "code",
      "metadata": {
        "colab": {
          "base_uri": "https://localhost:8080/"
        },
        "id": "a0HVs4gjT44D",
        "outputId": "cb298076-748e-432f-d4cc-e7926674f84f"
      },
      "source": [
        "non_url[:10]"
      ],
      "execution_count": 83,
      "outputs": [
        {
          "output_type": "execute_result",
          "data": {
            "text/plain": [
              "['https://www.eventbrite.com/cookies/',\n",
              " '#skip-heading',\n",
              " 'https://www.eventbrite.com',\n",
              " 'https://www.eventbrite.com/login/?referrer=%2F',\n",
              " 'https://www.eventbrite.com',\n",
              " 'https://www.eventbrite.com/login/?referrer=%2F',\n",
              " 'https://www.eventbrite.com/c/cwykwry',\n",
              " 'https://www.eventbrite.com/c/cwwzzcp',\n",
              " 'https://www.eventbrite.com/c/cwxbtcw',\n",
              " 'https://www.eventbrite.com/c/cwwrdbd']"
            ]
          },
          "metadata": {
            "tags": []
          },
          "execution_count": 83
        }
      ]
    },
    {
      "cell_type": "code",
      "metadata": {
        "id": "r-rbqDmNT6gm"
      },
      "source": [
        "con = sqlite3.connect(\"eventbrite.db\")"
      ],
      "execution_count": 84,
      "outputs": []
    },
    {
      "cell_type": "code",
      "metadata": {
        "id": "hBHG3u3pUif-"
      },
      "source": [
        "con.execute(\"create table interesting_url (Event_title TEXT,schedule TEXT,url TEXT)\")\r\n",
        "con.commit()"
      ],
      "execution_count": 88,
      "outputs": []
    },
    {
      "cell_type": "code",
      "metadata": {
        "id": "HDQxECHPUjWL"
      },
      "source": [
        "for i in range(0,10):\r\n",
        "  con = sqlite3.connect(\"eventbrite.db\")\r\n",
        "  cur = con.cursor()\r\n",
        "  cur.execute(\"INSERT into interesting_url (Event_title,schedule,url) values (?,?,?)\", (title[i],schedule[i],url[i]))\r\n",
        "  con.commit()"
      ],
      "execution_count": 89,
      "outputs": []
    },
    {
      "cell_type": "code",
      "metadata": {
        "id": "bAoHpqvfWBN4"
      },
      "source": [
        "con = sqlite3.connect(\"eventbrite.db\")\r\n",
        "con.execute(\"create table non_interesting_url (url TEXT)\")\r\n",
        "con.commit()"
      ],
      "execution_count": 90,
      "outputs": []
    },
    {
      "cell_type": "code",
      "metadata": {
        "id": "6-6ykSzkWU8z"
      },
      "source": [
        "for i in range(0,len(non_url)):\r\n",
        "  con = sqlite3.connect(\"eventbrite.db\")\r\n",
        "  cur = con.cursor()\r\n",
        "  cur.execute(\"INSERT into non_interesting_url (url) values (?)\", (non_url[i],))\r\n",
        "  con.commit()"
      ],
      "execution_count": 91,
      "outputs": []
    },
    {
      "cell_type": "code",
      "metadata": {
        "id": "En-cWO1ZW7Rk"
      },
      "source": [
        ""
      ],
      "execution_count": null,
      "outputs": []
    }
  ]
}