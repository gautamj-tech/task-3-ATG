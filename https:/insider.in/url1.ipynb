{
  "nbformat": 4,
  "nbformat_minor": 0,
  "metadata": {
    "colab": {
      "name": "",
      "provenance": []
    },
    "kernelspec": {
      "name": "python3",
      "display_name": "Python 3"
    }
  },
  "cells": [
    {
      "cell_type": "code",
      "metadata": {
        "id": "CkRVECGWBSNE"
      },
      "source": [
        "from bs4 import BeautifulSoup"
      ],
      "execution_count": 3,
      "outputs": []
    },
    {
      "cell_type": "code",
      "metadata": {
        "id": "P7ja-TXWC1H5"
      },
      "source": [
        "import json"
      ],
      "execution_count": 2,
      "outputs": []
    },
    {
      "cell_type": "code",
      "metadata": {
        "id": "ihgQ7xqgC6nl"
      },
      "source": [
        "import requests"
      ],
      "execution_count": 4,
      "outputs": []
    },
    {
      "cell_type": "code",
      "metadata": {
        "id": "5F6NcXgUjrSQ"
      },
      "source": [
        "base_url='https://insider.in'"
      ],
      "execution_count": 34,
      "outputs": []
    },
    {
      "cell_type": "code",
      "metadata": {
        "id": "qUVR2wzebXO4"
      },
      "source": [
        "url='https://insider.in/all-digital-events-in-online-today'"
      ],
      "execution_count": 5,
      "outputs": []
    },
    {
      "cell_type": "code",
      "metadata": {
        "id": "SAAEsFuYbnVX"
      },
      "source": [
        "r=requests.get(url)"
      ],
      "execution_count": 6,
      "outputs": []
    },
    {
      "cell_type": "code",
      "metadata": {
        "colab": {
          "base_uri": "https://localhost:8080/"
        },
        "id": "dUQoN6FEb7Zr",
        "outputId": "5711ee26-1ba0-487c-a6f8-36a001646ea6"
      },
      "source": [
        "soup=BeautifulSoup(r.content,'lxml')\r\n",
        "print(soup.title.text)"
      ],
      "execution_count": 7,
      "outputs": [
        {
          "output_type": "stream",
          "text": [
            "129 Online & Digital Events in Online by Paytm Insider\n"
          ],
          "name": "stdout"
        }
      ]
    },
    {
      "cell_type": "code",
      "metadata": {
        "id": "SJJzITU2cCq4"
      },
      "source": [
        "headers={\r\n",
        "   'User-Agent': 'Mozilla/5.0 (Windows NT 10.0; Win64; x64) AppleWebKit/537.36 (KHTML, like Gecko) Chrome/74.0.3729.169 Safari/537.36'\r\n",
        "}"
      ],
      "execution_count": 8,
      "outputs": []
    },
    {
      "cell_type": "code",
      "metadata": {
        "id": "OXKk2rfgkT83"
      },
      "source": [
        "title=[]\r\n",
        "genre=[]\r\n",
        "mrp=[]\r\n",
        "schedule=[]\r\n",
        "url=[]"
      ],
      "execution_count": 69,
      "outputs": []
    },
    {
      "cell_type": "code",
      "metadata": {
        "id": "rKENaiCskgv7"
      },
      "source": [
        "def remove(string): \r\n",
        "    #c=string.replace(\" \", \"\") \r\n",
        "    d=string.replace(\"\\n\",\"\")\r\n",
        "    return d.replace(\"\\t\",\"\")"
      ],
      "execution_count": 40,
      "outputs": []
    },
    {
      "cell_type": "code",
      "metadata": {
        "id": "Hm66EtVHcPPY"
      },
      "source": [
        "list=soup.find_all('span',class_='event-card-name-string ')\r\n",
        "for i in list[:10]:\r\n",
        "  title.append(remove(i.text))\r\n"
      ],
      "execution_count": 42,
      "outputs": []
    },
    {
      "cell_type": "code",
      "metadata": {
        "id": "Id1c6y81cqnx"
      },
      "source": [
        "list=soup.find_all('span',class_='event-card-date ')\r\n",
        "for i in list[:10]:\r\n",
        "  schedule.append(remove(i.text))\r\n"
      ],
      "execution_count": 44,
      "outputs": []
    },
    {
      "cell_type": "code",
      "metadata": {
        "id": "xs_bnkIcfLYR"
      },
      "source": [
        "list=soup.find_all('div',class_='event-card-container')\r\n",
        "for i in list[:10]:\r\n",
        "  mrp.append(remove(i.text))\r\n"
      ],
      "execution_count": 45,
      "outputs": []
    },
    {
      "cell_type": "code",
      "metadata": {
        "id": "dDhqDjeZf4wW"
      },
      "source": [
        "\r\n",
        "list=soup.find_all('span',class_='card-genre')\r\n",
        "for i in list[:10]:\r\n",
        "  genre.append(remove(i.text))\r\n"
      ],
      "execution_count": 46,
      "outputs": []
    },
    {
      "cell_type": "code",
      "metadata": {
        "id": "3CuU7Bjyh7JU"
      },
      "source": [
        "list=soup.find_all('div',class_='event-card ')\r\n",
        "for i in list:\r\n",
        "  for link in i.find_all('a',href=True):\r\n",
        "      url.append(link['href'])"
      ],
      "execution_count": 70,
      "outputs": []
    },
    {
      "cell_type": "code",
      "metadata": {
        "colab": {
          "base_uri": "https://localhost:8080/"
        },
        "id": "zHhQgoyJjQ45",
        "outputId": "5b44ce22-2296-4edd-a0fa-b9ead4e0520e"
      },
      "source": [
        ""
      ],
      "execution_count": 48,
      "outputs": [
        {
          "output_type": "execute_result",
          "data": {
            "text/plain": [
              "['https://insider.in/learn-international-etiquette-apr21-2020-digital-online-event/event',\n",
              " 'https://insider.in/vouch-for-diplomathon-global-digital-online-event-2020/event',\n",
              " 'https://insider.in/the-gift-of-reuniting-2020/event',\n",
              " 'https://insider.in/the-a-z-cocktail-bar-snacks-recipe-book/event',\n",
              " 'https://insider.in/bro-t-shirt/event',\n",
              " 'https://insider.in/4-course-dinner-party-at-home-2020/event',\n",
              " 'https://insider.in/canteen-cocktail-party-at-home/event',\n",
              " 'https://insider.in/be-the-inspiration-behind-our-new-cocktail/event',\n",
              " 'https://insider.in/mentor-students-from-lowincome-backgrounds-digital-online-event/event',\n",
              " 'https://insider.in/checkmate-by-chanakya-chess-club-batch-2-jun8-2020/event']"
            ]
          },
          "metadata": {
            "tags": []
          },
          "execution_count": 48
        }
      ]
    },
    {
      "cell_type": "code",
      "metadata": {
        "id": "Y_KtZ3eMlEO0"
      },
      "source": [
        "import sqlite3"
      ],
      "execution_count": 49,
      "outputs": []
    },
    {
      "cell_type": "code",
      "metadata": {
        "id": "rE9AOgTSmL7l"
      },
      "source": [
        "con = sqlite3.connect(\"1st.db\")"
      ],
      "execution_count": 50,
      "outputs": []
    },
    {
      "cell_type": "code",
      "metadata": {
        "colab": {
          "base_uri": "https://localhost:8080/"
        },
        "id": "zp2xMDl2mSOV",
        "outputId": "82bf8734-2380-4843-f0c9-5a812f9543b8"
      },
      "source": [
        "con.execute(\"create table interesting_url (Event_title TEXT,schedule TEXT,url TEXT,genre TEXT,MRP TEXT)\")\r\n"
      ],
      "execution_count": 51,
      "outputs": [
        {
          "output_type": "execute_result",
          "data": {
            "text/plain": [
              "<sqlite3.Cursor at 0x7f0f519c7420>"
            ]
          },
          "metadata": {
            "tags": []
          },
          "execution_count": 51
        }
      ]
    },
    {
      "cell_type": "code",
      "metadata": {
        "id": "3TSAJpglmt8w"
      },
      "source": [
        "con.commit()"
      ],
      "execution_count": 53,
      "outputs": []
    },
    {
      "cell_type": "code",
      "metadata": {
        "id": "mN4-X2g4mvud"
      },
      "source": [
        "for i in range(0,10):\r\n",
        "  con = sqlite3.connect(\"1st.db\")\r\n",
        "  cur = con.cursor()\r\n",
        "  cur.execute(\"INSERT into interesting_url (Event_title,schedule,url,genre,MRP) values (?,?,?,?,?)\", (title[i],schedule[i],url[i],genre[i],mrp[i]))\r\n",
        "  con.commit()"
      ],
      "execution_count": 54,
      "outputs": []
    },
    {
      "cell_type": "code",
      "metadata": {
        "id": "CDX9hq39nc9v"
      },
      "source": [
        "con = sqlite3.connect(\"1st.db\")"
      ],
      "execution_count": 55,
      "outputs": []
    },
    {
      "cell_type": "code",
      "metadata": {
        "colab": {
          "base_uri": "https://localhost:8080/"
        },
        "id": "MhGFPaSmnqSB",
        "outputId": "f03c28fa-0183-499a-87a0-eb89a4cb4e45"
      },
      "source": [
        "con.execute(\"create table non_interesting_url (url TEXT)\")\r\n"
      ],
      "execution_count": 56,
      "outputs": [
        {
          "output_type": "execute_result",
          "data": {
            "text/plain": [
              "<sqlite3.Cursor at 0x7f0f519c7490>"
            ]
          },
          "metadata": {
            "tags": []
          },
          "execution_count": 56
        }
      ]
    },
    {
      "cell_type": "code",
      "metadata": {
        "id": "fhwQFpcAn16G"
      },
      "source": [
        "con.commit()"
      ],
      "execution_count": 57,
      "outputs": []
    },
    {
      "cell_type": "code",
      "metadata": {
        "id": "Un185WRRokLG"
      },
      "source": [
        "dummy=[]"
      ],
      "execution_count": 64,
      "outputs": []
    },
    {
      "cell_type": "code",
      "metadata": {
        "id": "KDr4l3VXn4HY"
      },
      "source": [
        "non_url=[]"
      ],
      "execution_count": 68,
      "outputs": []
    },
    {
      "cell_type": "code",
      "metadata": {
        "id": "tcKSu9hvowKB"
      },
      "source": [
        "list=soup.find_all('body')\r\n",
        "for i in list:\r\n",
        "  for link in i.find_all('a',href=True):\r\n",
        "      dummy.append(link['href'])"
      ],
      "execution_count": 71,
      "outputs": []
    },
    {
      "cell_type": "code",
      "metadata": {
        "colab": {
          "base_uri": "https://localhost:8080/"
        },
        "id": "2IG7olzxqKEU",
        "outputId": "97c259b1-ea4a-42a2-fc2f-f518a6bf8426"
      },
      "source": [
        "len(dummy)"
      ],
      "execution_count": 72,
      "outputs": [
        {
          "output_type": "execute_result",
          "data": {
            "text/plain": [
              "242"
            ]
          },
          "metadata": {
            "tags": []
          },
          "execution_count": 72
        }
      ]
    },
    {
      "cell_type": "code",
      "metadata": {
        "colab": {
          "base_uri": "https://localhost:8080/"
        },
        "id": "edkcIESxqMQn",
        "outputId": "495aaf73-7316-463d-ddc1-9f173dab77bb"
      },
      "source": [
        "len(url)"
      ],
      "execution_count": 73,
      "outputs": [
        {
          "output_type": "execute_result",
          "data": {
            "text/plain": [
              "129"
            ]
          },
          "metadata": {
            "tags": []
          },
          "execution_count": 73
        }
      ]
    },
    {
      "cell_type": "code",
      "metadata": {
        "id": "cewCURSdqqsx"
      },
      "source": [
        "def Diff(li1, li2):\r\n",
        "    return (list(list(set(li1)-set(li2)) + list(set(li2)-set(li1))))"
      ],
      "execution_count": 76,
      "outputs": []
    },
    {
      "cell_type": "code",
      "metadata": {
        "colab": {
          "base_uri": "https://localhost:8080/",
          "height": 229
        },
        "id": "C20uZPtqqOCB",
        "outputId": "25d50caa-b27a-4b38-e8df-68d7a85850ab"
      },
      "source": [
        "non_url=Diff(dummy, url)"
      ],
      "execution_count": 77,
      "outputs": [
        {
          "output_type": "error",
          "ename": "TypeError",
          "evalue": "ignored",
          "traceback": [
            "\u001b[0;31m---------------------------------------------------------------------------\u001b[0m",
            "\u001b[0;31mTypeError\u001b[0m                                 Traceback (most recent call last)",
            "\u001b[0;32m<ipython-input-77-658aabbc203e>\u001b[0m in \u001b[0;36m<module>\u001b[0;34m()\u001b[0m\n\u001b[0;32m----> 1\u001b[0;31m \u001b[0mnon_url\u001b[0m\u001b[0;34m=\u001b[0m\u001b[0mDiff\u001b[0m\u001b[0;34m(\u001b[0m\u001b[0mdummy\u001b[0m\u001b[0;34m,\u001b[0m \u001b[0murl\u001b[0m\u001b[0;34m)\u001b[0m\u001b[0;34m\u001b[0m\u001b[0;34m\u001b[0m\u001b[0m\n\u001b[0m",
            "\u001b[0;32m<ipython-input-76-e003ed8db554>\u001b[0m in \u001b[0;36mDiff\u001b[0;34m(li1, li2)\u001b[0m\n\u001b[1;32m      1\u001b[0m \u001b[0;32mdef\u001b[0m \u001b[0mDiff\u001b[0m\u001b[0;34m(\u001b[0m\u001b[0mli1\u001b[0m\u001b[0;34m,\u001b[0m \u001b[0mli2\u001b[0m\u001b[0;34m)\u001b[0m\u001b[0;34m:\u001b[0m\u001b[0;34m\u001b[0m\u001b[0;34m\u001b[0m\u001b[0m\n\u001b[0;32m----> 2\u001b[0;31m     \u001b[0;32mreturn\u001b[0m \u001b[0;34m(\u001b[0m\u001b[0mlist\u001b[0m\u001b[0;34m(\u001b[0m\u001b[0mlist\u001b[0m\u001b[0;34m(\u001b[0m\u001b[0mset\u001b[0m\u001b[0;34m(\u001b[0m\u001b[0mli1\u001b[0m\u001b[0;34m)\u001b[0m\u001b[0;34m-\u001b[0m\u001b[0mset\u001b[0m\u001b[0;34m(\u001b[0m\u001b[0mli2\u001b[0m\u001b[0;34m)\u001b[0m\u001b[0;34m)\u001b[0m \u001b[0;34m+\u001b[0m \u001b[0mlist\u001b[0m\u001b[0;34m(\u001b[0m\u001b[0mset\u001b[0m\u001b[0;34m(\u001b[0m\u001b[0mli2\u001b[0m\u001b[0;34m)\u001b[0m\u001b[0;34m-\u001b[0m\u001b[0mset\u001b[0m\u001b[0;34m(\u001b[0m\u001b[0mli1\u001b[0m\u001b[0;34m)\u001b[0m\u001b[0;34m)\u001b[0m\u001b[0;34m)\u001b[0m\u001b[0;34m)\u001b[0m\u001b[0;34m\u001b[0m\u001b[0;34m\u001b[0m\u001b[0m\n\u001b[0m",
            "\u001b[0;31mTypeError\u001b[0m: 'ResultSet' object is not callable"
          ]
        }
      ]
    },
    {
      "cell_type": "code",
      "metadata": {
        "colab": {
          "base_uri": "https://localhost:8080/"
        },
        "id": "VzxYSuREqSZX",
        "outputId": "d130804c-f87b-4c30-c1c1-88cf8183916c"
      },
      "source": [
        "dummy[:30]"
      ],
      "execution_count": 78,
      "outputs": [
        {
          "output_type": "execute_result",
          "data": {
            "text/plain": [
              "['/online',\n",
              " '/all-digital-events-in-online',\n",
              " '/all-digital-events-in-online?priceFilter=free',\n",
              " '/all-digital-events-in-online-today',\n",
              " 'https://insider.in/interactive-streaming/',\n",
              " 'https://insider.in/list-your-events',\n",
              " 'http://beaninsider.homerun.co/',\n",
              " '/users/me/favourites',\n",
              " '/search',\n",
              " '/users/login',\n",
              " '#',\n",
              " 'https://insider.in/jim-beam-originals-2020-online/article?utm_source=Insider_Website&utm_medium=PopularEventsBanner&utm_campaign=Aadyam-Bandish-PanIndia-IB&utm_content=Banner',\n",
              " 'https://insider.in/mac-me-up-online-workshops?utm_source=Insider-Digitaleventsbanner&utm_medium=Insider',\n",
              " 'https://insider.in/kala-ghoda-arts-festival-2021-online',\n",
              " 'https://insider.in/breezer-vivid-shuffle-league-finale-feb21-2021/event',\n",
              " 'https://insider.in/hunger-inc-experiences',\n",
              " '#',\n",
              " '/all-digital-events-in-online',\n",
              " '/all-digital-events-in-online-today',\n",
              " '/all-digital-events-in-online-tomorrow',\n",
              " '/all-digital-events-in-online-weekend',\n",
              " '/all-digital-events-in-online-today',\n",
              " '/all-digital-events-in-online-today/courses',\n",
              " '/all-digital-events-in-online-today/workshops',\n",
              " '/all-digital-events-in-online-today/kids',\n",
              " '/all-digital-events-in-online-today/private-parties',\n",
              " '/all-digital-events-in-online-today/arts-and-theatre',\n",
              " '/all-digital-events-in-online-today/health-and-fitness',\n",
              " '/all-digital-events-in-online-today/food',\n",
              " '/all-digital-events-in-online-today/volunteer']"
            ]
          },
          "metadata": {
            "tags": []
          },
          "execution_count": 78
        }
      ]
    },
    {
      "cell_type": "code",
      "metadata": {
        "colab": {
          "base_uri": "https://localhost:8080/",
          "height": 195
        },
        "id": "rZtHi7oIq26s",
        "outputId": "ca8284c0-3be0-4e7b-b121-91b1420f797b"
      },
      "source": [
        "from collections import Counter\r\n",
        "\r\n",
        "result = list((Counter(dummy) - Counter(url)).elements())"
      ],
      "execution_count": 79,
      "outputs": [
        {
          "output_type": "error",
          "ename": "TypeError",
          "evalue": "ignored",
          "traceback": [
            "\u001b[0;31m---------------------------------------------------------------------------\u001b[0m",
            "\u001b[0;31mTypeError\u001b[0m                                 Traceback (most recent call last)",
            "\u001b[0;32m<ipython-input-79-9907e1aa1704>\u001b[0m in \u001b[0;36m<module>\u001b[0;34m()\u001b[0m\n\u001b[1;32m      1\u001b[0m \u001b[0;32mfrom\u001b[0m \u001b[0mcollections\u001b[0m \u001b[0;32mimport\u001b[0m \u001b[0mCounter\u001b[0m\u001b[0;34m\u001b[0m\u001b[0;34m\u001b[0m\u001b[0m\n\u001b[1;32m      2\u001b[0m \u001b[0;34m\u001b[0m\u001b[0m\n\u001b[0;32m----> 3\u001b[0;31m \u001b[0mresult\u001b[0m \u001b[0;34m=\u001b[0m \u001b[0mlist\u001b[0m\u001b[0;34m(\u001b[0m\u001b[0;34m(\u001b[0m\u001b[0mCounter\u001b[0m\u001b[0;34m(\u001b[0m\u001b[0mdummy\u001b[0m\u001b[0;34m)\u001b[0m \u001b[0;34m-\u001b[0m \u001b[0mCounter\u001b[0m\u001b[0;34m(\u001b[0m\u001b[0murl\u001b[0m\u001b[0;34m)\u001b[0m\u001b[0;34m)\u001b[0m\u001b[0;34m.\u001b[0m\u001b[0melements\u001b[0m\u001b[0;34m(\u001b[0m\u001b[0;34m)\u001b[0m\u001b[0;34m)\u001b[0m\u001b[0;34m\u001b[0m\u001b[0;34m\u001b[0m\u001b[0m\n\u001b[0m",
            "\u001b[0;31mTypeError\u001b[0m: 'ResultSet' object is not callable"
          ]
        }
      ]
    },
    {
      "cell_type": "code",
      "metadata": {
        "colab": {
          "base_uri": "https://localhost:8080/"
        },
        "id": "PaqZlquKsJ06",
        "outputId": "60683d9e-01e4-4fcc-d1b3-b1a2755198f8"
      },
      "source": [
        "\r\n",
        "\r\n",
        "res = [ i for i in dummy ]\r\n",
        "\r\n",
        "for i in url:\r\n",
        "  if i in dummy:\r\n",
        "    res.remove(i)\r\n",
        "\r\n",
        "print(len(res))"
      ],
      "execution_count": 83,
      "outputs": [
        {
          "output_type": "stream",
          "text": [
            "113\n"
          ],
          "name": "stdout"
        }
      ]
    },
    {
      "cell_type": "code",
      "metadata": {
        "colab": {
          "base_uri": "https://localhost:8080/"
        },
        "id": "othwN2wetVkN",
        "outputId": "e66f6666-2cce-4ee0-86c0-dc60cc9b344d"
      },
      "source": [
        "res[:50]"
      ],
      "execution_count": 84,
      "outputs": [
        {
          "output_type": "execute_result",
          "data": {
            "text/plain": [
              "['/online',\n",
              " '/all-digital-events-in-online',\n",
              " '/all-digital-events-in-online?priceFilter=free',\n",
              " '/all-digital-events-in-online-today',\n",
              " 'https://insider.in/interactive-streaming/',\n",
              " 'https://insider.in/list-your-events',\n",
              " 'http://beaninsider.homerun.co/',\n",
              " '/users/me/favourites',\n",
              " '/search',\n",
              " '/users/login',\n",
              " '#',\n",
              " 'https://insider.in/jim-beam-originals-2020-online/article?utm_source=Insider_Website&utm_medium=PopularEventsBanner&utm_campaign=Aadyam-Bandish-PanIndia-IB&utm_content=Banner',\n",
              " 'https://insider.in/mac-me-up-online-workshops?utm_source=Insider-Digitaleventsbanner&utm_medium=Insider',\n",
              " 'https://insider.in/kala-ghoda-arts-festival-2021-online',\n",
              " 'https://insider.in/breezer-vivid-shuffle-league-finale-feb21-2021/event',\n",
              " 'https://insider.in/hunger-inc-experiences',\n",
              " '#',\n",
              " '/all-digital-events-in-online',\n",
              " '/all-digital-events-in-online-today',\n",
              " '/all-digital-events-in-online-tomorrow',\n",
              " '/all-digital-events-in-online-weekend',\n",
              " '/all-digital-events-in-online-today',\n",
              " '/all-digital-events-in-online-today/courses',\n",
              " '/all-digital-events-in-online-today/workshops',\n",
              " '/all-digital-events-in-online-today/kids',\n",
              " '/all-digital-events-in-online-today/private-parties',\n",
              " '/all-digital-events-in-online-today/arts-and-theatre',\n",
              " '/all-digital-events-in-online-today/health-and-fitness',\n",
              " '/all-digital-events-in-online-today/food',\n",
              " '/all-digital-events-in-online-today/volunteer',\n",
              " '/all-digital-events-in-online-today/dance',\n",
              " '/all-digital-events-in-online-today/experiences',\n",
              " '/all-digital-events-in-online-today/music',\n",
              " '/all-digital-events-in-online-today/comedy',\n",
              " '/all-digital-events-in-online-today/games',\n",
              " '/all-digital-events-in-online-today/talks',\n",
              " '/all-digital-events-in-online-today/nye-parties',\n",
              " 'https://itunes.apple.com/us/app/insider.in/id1179683119?ls=1&mt=8&utm_source=website&utm_medium=footer',\n",
              " 'https://play.google.com/store/apps/details?id=in.insider.consumer&utm_source=website&utm_medium=footer',\n",
              " '/agra',\n",
              " '/ahmedabad',\n",
              " '/ahmednagar',\n",
              " '/amritsar',\n",
              " '/anand',\n",
              " '/bangalore',\n",
              " '/bengaluru',\n",
              " '/bharuch',\n",
              " '/bhopal',\n",
              " '/bilaspur',\n",
              " '/chandigarh']"
            ]
          },
          "metadata": {
            "tags": []
          },
          "execution_count": 84
        }
      ]
    },
    {
      "cell_type": "code",
      "metadata": {
        "id": "ZsEafP4NuDVC"
      },
      "source": [
        "a='hello'"
      ],
      "execution_count": 85,
      "outputs": []
    },
    {
      "cell_type": "code",
      "metadata": {
        "colab": {
          "base_uri": "https://localhost:8080/",
          "height": 35
        },
        "id": "sgvGjZkiuScb",
        "outputId": "cdf3f6d1-27e7-4bc2-d968-38d64d058152"
      },
      "source": [
        "a[:10]"
      ],
      "execution_count": 87,
      "outputs": [
        {
          "output_type": "execute_result",
          "data": {
            "application/vnd.google.colaboratory.intrinsic+json": {
              "type": "string"
            },
            "text/plain": [
              "'hello'"
            ]
          },
          "metadata": {
            "tags": []
          },
          "execution_count": 87
        }
      ]
    },
    {
      "cell_type": "code",
      "metadata": {
        "colab": {
          "base_uri": "https://localhost:8080/"
        },
        "id": "X7wXrt13uUCy",
        "outputId": "7130608c-11ab-4ce2-cbf5-6c22f6bfae0c"
      },
      "source": [
        "len(base_url)"
      ],
      "execution_count": 88,
      "outputs": [
        {
          "output_type": "execute_result",
          "data": {
            "text/plain": [
              "18"
            ]
          },
          "metadata": {
            "tags": []
          },
          "execution_count": 88
        }
      ]
    },
    {
      "cell_type": "code",
      "metadata": {
        "id": "VM974Izlugef"
      },
      "source": [
        "def add(l):\r\n",
        "  for i in l:\r\n",
        "    if i[:18]!=base_url:\r\n",
        "      non_url.append(base_url+i)\r\n",
        "    else:\r\n",
        "      non_url.append(i)"
      ],
      "execution_count": 92,
      "outputs": []
    },
    {
      "cell_type": "code",
      "metadata": {
        "id": "mlNQMdFjvfZ3"
      },
      "source": [
        "add(res)"
      ],
      "execution_count": 93,
      "outputs": []
    },
    {
      "cell_type": "code",
      "metadata": {
        "colab": {
          "base_uri": "https://localhost:8080/"
        },
        "id": "Jhh8F_g8vlud",
        "outputId": "b2745e7b-8ee4-4860-a0f3-820a9ed52f6a"
      },
      "source": [
        "non_url"
      ],
      "execution_count": 94,
      "outputs": [
        {
          "output_type": "execute_result",
          "data": {
            "text/plain": [
              "['https://insider.in/online',\n",
              " 'https://insider.in/all-digital-events-in-online',\n",
              " 'https://insider.in/all-digital-events-in-online?priceFilter=free',\n",
              " 'https://insider.in/all-digital-events-in-online-today',\n",
              " 'https://insider.in/interactive-streaming/',\n",
              " 'https://insider.in/list-your-events',\n",
              " 'https://insider.inhttp://beaninsider.homerun.co/',\n",
              " 'https://insider.in/users/me/favourites',\n",
              " 'https://insider.in/search',\n",
              " 'https://insider.in/users/login',\n",
              " 'https://insider.in#',\n",
              " 'https://insider.in/jim-beam-originals-2020-online/article?utm_source=Insider_Website&utm_medium=PopularEventsBanner&utm_campaign=Aadyam-Bandish-PanIndia-IB&utm_content=Banner',\n",
              " 'https://insider.in/mac-me-up-online-workshops?utm_source=Insider-Digitaleventsbanner&utm_medium=Insider',\n",
              " 'https://insider.in/kala-ghoda-arts-festival-2021-online',\n",
              " 'https://insider.in/breezer-vivid-shuffle-league-finale-feb21-2021/event',\n",
              " 'https://insider.in/hunger-inc-experiences',\n",
              " 'https://insider.in#',\n",
              " 'https://insider.in/all-digital-events-in-online',\n",
              " 'https://insider.in/all-digital-events-in-online-today',\n",
              " 'https://insider.in/all-digital-events-in-online-tomorrow',\n",
              " 'https://insider.in/all-digital-events-in-online-weekend',\n",
              " 'https://insider.in/all-digital-events-in-online-today',\n",
              " 'https://insider.in/all-digital-events-in-online-today/courses',\n",
              " 'https://insider.in/all-digital-events-in-online-today/workshops',\n",
              " 'https://insider.in/all-digital-events-in-online-today/kids',\n",
              " 'https://insider.in/all-digital-events-in-online-today/private-parties',\n",
              " 'https://insider.in/all-digital-events-in-online-today/arts-and-theatre',\n",
              " 'https://insider.in/all-digital-events-in-online-today/health-and-fitness',\n",
              " 'https://insider.in/all-digital-events-in-online-today/food',\n",
              " 'https://insider.in/all-digital-events-in-online-today/volunteer',\n",
              " 'https://insider.in/all-digital-events-in-online-today/dance',\n",
              " 'https://insider.in/all-digital-events-in-online-today/experiences',\n",
              " 'https://insider.in/all-digital-events-in-online-today/music',\n",
              " 'https://insider.in/all-digital-events-in-online-today/comedy',\n",
              " 'https://insider.in/all-digital-events-in-online-today/games',\n",
              " 'https://insider.in/all-digital-events-in-online-today/talks',\n",
              " 'https://insider.in/all-digital-events-in-online-today/nye-parties',\n",
              " 'https://insider.inhttps://itunes.apple.com/us/app/insider.in/id1179683119?ls=1&mt=8&utm_source=website&utm_medium=footer',\n",
              " 'https://insider.inhttps://play.google.com/store/apps/details?id=in.insider.consumer&utm_source=website&utm_medium=footer',\n",
              " 'https://insider.in/agra',\n",
              " 'https://insider.in/ahmedabad',\n",
              " 'https://insider.in/ahmednagar',\n",
              " 'https://insider.in/amritsar',\n",
              " 'https://insider.in/anand',\n",
              " 'https://insider.in/bangalore',\n",
              " 'https://insider.in/bengaluru',\n",
              " 'https://insider.in/bharuch',\n",
              " 'https://insider.in/bhopal',\n",
              " 'https://insider.in/bilaspur',\n",
              " 'https://insider.in/chandigarh',\n",
              " 'https://insider.in/chennai',\n",
              " 'https://insider.in/coimbatore',\n",
              " 'https://insider.in/coorg',\n",
              " 'https://insider.in/dehradun',\n",
              " 'https://insider.in/delhi',\n",
              " 'https://insider.in/faridabad',\n",
              " 'https://insider.in/gandhinagar',\n",
              " 'https://insider.in/goa',\n",
              " 'https://insider.in/gorakhpur',\n",
              " 'https://insider.in/gurgaon',\n",
              " 'https://insider.in/guwahati',\n",
              " 'https://insider.in/hampi',\n",
              " 'https://insider.in/hyderabad',\n",
              " 'https://insider.in/indore',\n",
              " 'https://insider.in/jaipur',\n",
              " 'https://insider.in/jalandhar',\n",
              " 'https://insider.in/jammu',\n",
              " 'https://insider.in/jodhpur',\n",
              " 'https://insider.in/junagadh',\n",
              " 'https://insider.in/kanpur',\n",
              " 'https://insider.in/kochi',\n",
              " 'https://insider.in/kolkata',\n",
              " 'https://insider.in/lonavala',\n",
              " 'https://insider.in/lucknow',\n",
              " 'https://insider.in/ludhiana',\n",
              " 'https://insider.in/manali',\n",
              " 'https://insider.in/mohali',\n",
              " 'https://insider.in/mumbai',\n",
              " 'https://insider.in/nagpur',\n",
              " 'https://insider.in/nashik',\n",
              " 'https://insider.in/noida',\n",
              " 'https://insider.in/online',\n",
              " 'https://insider.in/panchkula',\n",
              " 'https://insider.in/patiala',\n",
              " 'https://insider.in/pune',\n",
              " 'https://insider.in/pushkar',\n",
              " 'https://insider.in/raipur',\n",
              " 'https://insider.in/rishikesh',\n",
              " 'https://insider.in/shillong',\n",
              " 'https://insider.in/siliguri',\n",
              " 'https://insider.in/sonipat',\n",
              " 'https://insider.in/surat',\n",
              " 'https://insider.in/thane',\n",
              " 'https://insider.in/udaipur',\n",
              " 'https://insider.in/vadodara',\n",
              " 'https://insider.in/zirakpur',\n",
              " 'https://insider.in/',\n",
              " 'https://insider.in/about',\n",
              " 'https://insider.inhttps://medium.com/paytminsider',\n",
              " 'https://insider.inhttps://insidersupport.helpshift.com/a/insider/',\n",
              " 'https://insider.in/terms',\n",
              " 'https://insider.in/privacy',\n",
              " 'https://insider.inhttp://beaninsider.homerun.co/',\n",
              " 'https://insider.in/contact',\n",
              " 'https://insider.inhttps://www.facebook.com/paytminsider',\n",
              " 'https://insider.inhttps://twitter.com/paytminsider',\n",
              " 'https://insider.inhttps://instagram.com/insider.in/',\n",
              " 'https://insider.inhttp://oml.in',\n",
              " 'https://insider.in/list-your-online-events',\n",
              " 'https://insider.inhttps://medium.com/@paytminsider',\n",
              " 'https://insider.inhttps://blog.insider.in/insider-biz/',\n",
              " 'https://insider.inhttp://outdatedbrowser.com/en',\n",
              " 'https://insider.intel:9136622662']"
            ]
          },
          "metadata": {
            "tags": []
          },
          "execution_count": 94
        }
      ]
    },
    {
      "cell_type": "code",
      "metadata": {
        "id": "44b8cREqvnKI"
      },
      "source": [
        "for i in range(0,len(non_url)):\r\n",
        "  con = sqlite3.connect(\"1st.db\")\r\n",
        "  cur = con.cursor()\r\n",
        "  cur.execute(\"INSERT into non_interesting_url (url) values (?)\", (non_url[i],))\r\n",
        "  con.commit()"
      ],
      "execution_count": 100,
      "outputs": []
    },
    {
      "cell_type": "code",
      "metadata": {
        "id": "b8O1bwblw3K7"
      },
      "source": [
        ""
      ],
      "execution_count": null,
      "outputs": []
    }
  ]
}
