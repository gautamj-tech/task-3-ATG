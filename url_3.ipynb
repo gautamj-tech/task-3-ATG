{
  "nbformat": 4,
  "nbformat_minor": 0,
  "metadata": {
    "colab": {
      "name": "Untitled1.ipynb",
      "provenance": []
    },
    "kernelspec": {
      "name": "python3",
      "display_name": "Python 3"
    }
  },
  "cells": [
    {
      "cell_type": "code",
      "metadata": {
        "id": "9L050hGc6yHO"
      },
      "source": [
        "import csv"
      ],
      "execution_count": 28,
      "outputs": []
    },
    {
      "cell_type": "code",
      "metadata": {
        "id": "Ul5LhXZx63yu"
      },
      "source": [
        "from bs4 import BeautifulSoup"
      ],
      "execution_count": 29,
      "outputs": []
    },
    {
      "cell_type": "code",
      "metadata": {
        "colab": {
          "base_uri": "https://localhost:8080/"
        },
        "id": "_qtmeuKl67I-",
        "outputId": "7348d88a-4ff4-4dd1-b84d-09d5e5812187"
      },
      "source": [
        "!pip install selenium"
      ],
      "execution_count": 4,
      "outputs": [
        {
          "output_type": "stream",
          "text": [
            "Collecting selenium\n",
            "\u001b[?25l  Downloading https://files.pythonhosted.org/packages/80/d6/4294f0b4bce4de0abf13e17190289f9d0613b0a44e5dd6a7f5ca98459853/selenium-3.141.0-py2.py3-none-any.whl (904kB)\n",
            "\r\u001b[K     |▍                               | 10kB 14.8MB/s eta 0:00:01\r\u001b[K     |▊                               | 20kB 20.2MB/s eta 0:00:01\r\u001b[K     |█                               | 30kB 13.4MB/s eta 0:00:01\r\u001b[K     |█▌                              | 40kB 9.8MB/s eta 0:00:01\r\u001b[K     |█▉                              | 51kB 8.4MB/s eta 0:00:01\r\u001b[K     |██▏                             | 61kB 8.6MB/s eta 0:00:01\r\u001b[K     |██▌                             | 71kB 8.1MB/s eta 0:00:01\r\u001b[K     |███                             | 81kB 8.4MB/s eta 0:00:01\r\u001b[K     |███▎                            | 92kB 8.7MB/s eta 0:00:01\r\u001b[K     |███▋                            | 102kB 9.0MB/s eta 0:00:01\r\u001b[K     |████                            | 112kB 9.0MB/s eta 0:00:01\r\u001b[K     |████▍                           | 122kB 9.0MB/s eta 0:00:01\r\u001b[K     |████▊                           | 133kB 9.0MB/s eta 0:00:01\r\u001b[K     |█████                           | 143kB 9.0MB/s eta 0:00:01\r\u001b[K     |█████▍                          | 153kB 9.0MB/s eta 0:00:01\r\u001b[K     |█████▉                          | 163kB 9.0MB/s eta 0:00:01\r\u001b[K     |██████▏                         | 174kB 9.0MB/s eta 0:00:01\r\u001b[K     |██████▌                         | 184kB 9.0MB/s eta 0:00:01\r\u001b[K     |██████▉                         | 194kB 9.0MB/s eta 0:00:01\r\u001b[K     |███████▎                        | 204kB 9.0MB/s eta 0:00:01\r\u001b[K     |███████▋                        | 215kB 9.0MB/s eta 0:00:01\r\u001b[K     |████████                        | 225kB 9.0MB/s eta 0:00:01\r\u001b[K     |████████▎                       | 235kB 9.0MB/s eta 0:00:01\r\u001b[K     |████████▊                       | 245kB 9.0MB/s eta 0:00:01\r\u001b[K     |█████████                       | 256kB 9.0MB/s eta 0:00:01\r\u001b[K     |█████████▍                      | 266kB 9.0MB/s eta 0:00:01\r\u001b[K     |█████████▉                      | 276kB 9.0MB/s eta 0:00:01\r\u001b[K     |██████████▏                     | 286kB 9.0MB/s eta 0:00:01\r\u001b[K     |██████████▌                     | 296kB 9.0MB/s eta 0:00:01\r\u001b[K     |██████████▉                     | 307kB 9.0MB/s eta 0:00:01\r\u001b[K     |███████████▎                    | 317kB 9.0MB/s eta 0:00:01\r\u001b[K     |███████████▋                    | 327kB 9.0MB/s eta 0:00:01\r\u001b[K     |████████████                    | 337kB 9.0MB/s eta 0:00:01\r\u001b[K     |████████████▎                   | 348kB 9.0MB/s eta 0:00:01\r\u001b[K     |████████████▊                   | 358kB 9.0MB/s eta 0:00:01\r\u001b[K     |█████████████                   | 368kB 9.0MB/s eta 0:00:01\r\u001b[K     |█████████████▍                  | 378kB 9.0MB/s eta 0:00:01\r\u001b[K     |█████████████▊                  | 389kB 9.0MB/s eta 0:00:01\r\u001b[K     |██████████████▏                 | 399kB 9.0MB/s eta 0:00:01\r\u001b[K     |██████████████▌                 | 409kB 9.0MB/s eta 0:00:01\r\u001b[K     |██████████████▉                 | 419kB 9.0MB/s eta 0:00:01\r\u001b[K     |███████████████▏                | 430kB 9.0MB/s eta 0:00:01\r\u001b[K     |███████████████▋                | 440kB 9.0MB/s eta 0:00:01\r\u001b[K     |████████████████                | 450kB 9.0MB/s eta 0:00:01\r\u001b[K     |████████████████▎               | 460kB 9.0MB/s eta 0:00:01\r\u001b[K     |████████████████▋               | 471kB 9.0MB/s eta 0:00:01\r\u001b[K     |█████████████████               | 481kB 9.0MB/s eta 0:00:01\r\u001b[K     |█████████████████▍              | 491kB 9.0MB/s eta 0:00:01\r\u001b[K     |█████████████████▊              | 501kB 9.0MB/s eta 0:00:01\r\u001b[K     |██████████████████▏             | 512kB 9.0MB/s eta 0:00:01\r\u001b[K     |██████████████████▌             | 522kB 9.0MB/s eta 0:00:01\r\u001b[K     |██████████████████▉             | 532kB 9.0MB/s eta 0:00:01\r\u001b[K     |███████████████████▏            | 542kB 9.0MB/s eta 0:00:01\r\u001b[K     |███████████████████▋            | 552kB 9.0MB/s eta 0:00:01\r\u001b[K     |████████████████████            | 563kB 9.0MB/s eta 0:00:01\r\u001b[K     |████████████████████▎           | 573kB 9.0MB/s eta 0:00:01\r\u001b[K     |████████████████████▋           | 583kB 9.0MB/s eta 0:00:01\r\u001b[K     |█████████████████████           | 593kB 9.0MB/s eta 0:00:01\r\u001b[K     |█████████████████████▍          | 604kB 9.0MB/s eta 0:00:01\r\u001b[K     |█████████████████████▊          | 614kB 9.0MB/s eta 0:00:01\r\u001b[K     |██████████████████████          | 624kB 9.0MB/s eta 0:00:01\r\u001b[K     |██████████████████████▌         | 634kB 9.0MB/s eta 0:00:01\r\u001b[K     |██████████████████████▉         | 645kB 9.0MB/s eta 0:00:01\r\u001b[K     |███████████████████████▏        | 655kB 9.0MB/s eta 0:00:01\r\u001b[K     |███████████████████████▌        | 665kB 9.0MB/s eta 0:00:01\r\u001b[K     |████████████████████████        | 675kB 9.0MB/s eta 0:00:01\r\u001b[K     |████████████████████████▎       | 686kB 9.0MB/s eta 0:00:01\r\u001b[K     |████████████████████████▋       | 696kB 9.0MB/s eta 0:00:01\r\u001b[K     |█████████████████████████       | 706kB 9.0MB/s eta 0:00:01\r\u001b[K     |█████████████████████████▍      | 716kB 9.0MB/s eta 0:00:01\r\u001b[K     |█████████████████████████▊      | 727kB 9.0MB/s eta 0:00:01\r\u001b[K     |██████████████████████████      | 737kB 9.0MB/s eta 0:00:01\r\u001b[K     |██████████████████████████▍     | 747kB 9.0MB/s eta 0:00:01\r\u001b[K     |██████████████████████████▉     | 757kB 9.0MB/s eta 0:00:01\r\u001b[K     |███████████████████████████▏    | 768kB 9.0MB/s eta 0:00:01\r\u001b[K     |███████████████████████████▌    | 778kB 9.0MB/s eta 0:00:01\r\u001b[K     |████████████████████████████    | 788kB 9.0MB/s eta 0:00:01\r\u001b[K     |████████████████████████████▎   | 798kB 9.0MB/s eta 0:00:01\r\u001b[K     |████████████████████████████▋   | 808kB 9.0MB/s eta 0:00:01\r\u001b[K     |█████████████████████████████   | 819kB 9.0MB/s eta 0:00:01\r\u001b[K     |█████████████████████████████▍  | 829kB 9.0MB/s eta 0:00:01\r\u001b[K     |█████████████████████████████▊  | 839kB 9.0MB/s eta 0:00:01\r\u001b[K     |██████████████████████████████  | 849kB 9.0MB/s eta 0:00:01\r\u001b[K     |██████████████████████████████▍ | 860kB 9.0MB/s eta 0:00:01\r\u001b[K     |██████████████████████████████▉ | 870kB 9.0MB/s eta 0:00:01\r\u001b[K     |███████████████████████████████▏| 880kB 9.0MB/s eta 0:00:01\r\u001b[K     |███████████████████████████████▌| 890kB 9.0MB/s eta 0:00:01\r\u001b[K     |███████████████████████████████▉| 901kB 9.0MB/s eta 0:00:01\r\u001b[K     |████████████████████████████████| 911kB 9.0MB/s \n",
            "\u001b[?25hRequirement already satisfied: urllib3 in /usr/local/lib/python3.6/dist-packages (from selenium) (1.24.3)\n",
            "Installing collected packages: selenium\n",
            "Successfully installed selenium-3.141.0\n"
          ],
          "name": "stdout"
        }
      ]
    },
    {
      "cell_type": "code",
      "metadata": {
        "id": "AswEtQ3D7XEu"
      },
      "source": [
        "from selenium import webdriver"
      ],
      "execution_count": 5,
      "outputs": []
    },
    {
      "cell_type": "code",
      "metadata": {
        "id": "uN609p8c6-0C"
      },
      "source": [
        "import json"
      ],
      "execution_count": 30,
      "outputs": []
    },
    {
      "cell_type": "code",
      "metadata": {
        "id": "RngbVcdk2k2Q"
      },
      "source": [
        "import requests"
      ],
      "execution_count": 31,
      "outputs": []
    },
    {
      "cell_type": "code",
      "metadata": {
        "id": "vChL8xYA7Ui9"
      },
      "source": [
        "url='https://www.naadyogacouncil.com/en/events/'"
      ],
      "execution_count": 44,
      "outputs": []
    },
    {
      "cell_type": "code",
      "metadata": {
        "id": "-U87csO12eFK"
      },
      "source": [
        "r=requests.get(url)"
      ],
      "execution_count": 45,
      "outputs": []
    },
    {
      "cell_type": "code",
      "metadata": {
        "id": "a0SSNywg2hl7"
      },
      "source": [
        "soup=BeautifulSoup(r.content,'lxml')"
      ],
      "execution_count": 46,
      "outputs": []
    },
    {
      "cell_type": "code",
      "metadata": {
        "colab": {
          "base_uri": "https://localhost:8080/"
        },
        "id": "ReT9_BFg26py",
        "outputId": "64996f37-1272-4dea-e4c2-119cc1e07045"
      },
      "source": [
        "print(soup.title.text)"
      ],
      "execution_count": 47,
      "outputs": [
        {
          "output_type": "stream",
          "text": [
            "Veranstaltungen – Naadyoga Council\n"
          ],
          "name": "stdout"
        }
      ]
    },
    {
      "cell_type": "code",
      "metadata": {
        "id": "faBY25QD3AUT"
      },
      "source": [
        "script=soup.find_all('script')[20]"
      ],
      "execution_count": 36,
      "outputs": []
    },
    {
      "cell_type": "code",
      "metadata": {
        "colab": {
          "base_uri": "https://localhost:8080/"
        },
        "id": "w2qjzZDH3djK",
        "outputId": "911395d2-1e04-4ccc-d3d9-1aae1a3a23c1"
      },
      "source": [
        "print(script)"
      ],
      "execution_count": 37,
      "outputs": [
        {
          "output_type": "stream",
          "text": [
            "<script id=\"seamless_javascript_code-js\" src=\"https://www.naadyogacouncil.com/wp-content/plugins/seamless-donations/js/seamless-donations.js?ver=5.6.1\" type=\"text/javascript\"></script>\n"
          ],
          "name": "stdout"
        }
      ]
    },
    {
      "cell_type": "code",
      "metadata": {
        "id": "y7G2vdLu3vXt"
      },
      "source": [
        "headers={\r\n",
        "   'User-Agent': 'Mozilla/5.0 (Windows NT 10.0; Win64; x64) AppleWebKit/537.36 (KHTML, like Gecko) Chrome/74.0.3729.169 Safari/537.36'\r\n",
        "}"
      ],
      "execution_count": 38,
      "outputs": []
    },
    {
      "cell_type": "code",
      "metadata": {
        "id": "w0EHqRypN-WL"
      },
      "source": [
        "list=soup.find_all('div',class_='tribe-events-event-details tribe-clearfix ')"
      ],
      "execution_count": 51,
      "outputs": []
    },
    {
      "cell_type": "code",
      "metadata": {
        "id": "1ttzJnWqPqUE"
      },
      "source": [
        "prod_links=[]"
      ],
      "execution_count": 53,
      "outputs": []
    },
    {
      "cell_type": "code",
      "metadata": {
        "colab": {
          "base_uri": "https://localhost:8080/"
        },
        "id": "ip0FLzTKbYm1",
        "outputId": "d7e0e3c0-7d4e-49d7-87b9-189fdae4dbc0"
      },
      "source": [
        "print(list)"
      ],
      "execution_count": 56,
      "outputs": [
        {
          "output_type": "stream",
          "text": [
            "[<div class=\"tribe-events-event-details tribe-clearfix \">\n",
            "<!-- Event Title -->\n",
            "<h4 class=\"tribe-events-list-event-title entry-title summary\">\n",
            "<a class=\"url\" href=\"https://www.naadyogacouncil.com/en/event-single/be-in-tune-sidak-kaur/2021-02-10/\" rel=\"bookmark\" title=\"Be in Tune • Sidak Kaur\">\n",
            "\t\t\tBe in Tune • Sidak Kaur\t\t</a>\n",
            "</h4>\n",
            "<!-- Event Content -->\n",
            "<div class=\"tribe-events-list-photo-description tribe-events-content entry-summary description\">\n",
            "<p>Be in Tune When we are perfectly tuned like a musical instrument, we feel connected, healthy and happy – able to cope with all challenges in life. However, pressure and daily challenges get us out of this perfect tune. If we are out of tune in any way, we feel stressed, lacking in energy or even sick. This is exactly where Naad Yoga comes in. Through the targeted application of sound and music – rhythms, tones and melodies – we…</p>\n",
            "</div>\n",
            "</div>, <div class=\"tribe-events-event-details tribe-clearfix \">\n",
            "<!-- Event Title -->\n",
            "<h4 class=\"tribe-events-list-event-title entry-title summary\">\n",
            "<a class=\"url\" href=\"https://www.naadyogacouncil.com/en/event-single/kirtan-seva-3/\" rel=\"bookmark\" title=\"Kirtan Seva • Niranjan Kaur\">\n",
            "\t\t\tKirtan Seva • Niranjan Kaur\t\t</a>\n",
            "</h4>\n",
            "<!-- Event Content -->\n",
            "<div class=\"tribe-events-list-photo-description tribe-events-content entry-summary description\">\n",
            "<p>Kirtan Seva Online Raag Suhee • Love • Let’s immerse ourselves in the mood of overflowing love, expressed through the beautiful melody of Raag Suhee. Sing, experience and live your love! The beautiful monthly space of Kirtan Seva continues in the New Year and now vibrates in the Raag of the month. The idea of Seva stays in the centre – we give our own best into the circle and also into the world with the collected Kirtan Seva donations.…</p>\n",
            "</div>\n",
            "</div>, <div class=\"tribe-events-event-details tribe-clearfix \">\n",
            "<!-- Event Title -->\n",
            "<h4 class=\"tribe-events-list-event-title entry-title summary\">\n",
            "<a class=\"url\" href=\"https://www.naadyogacouncil.com/en/event-single/yogi-lunch-4/\" rel=\"bookmark\" title=\"Yogi Lunch EP 4 • Niranjan &amp; Nimrat\">\n",
            "\t\t\tYogi Lunch EP 4 • Niranjan &amp; Nimrat\t\t</a>\n",
            "</h4>\n",
            "<!-- Event Content -->\n",
            "<div class=\"tribe-events-list-photo-description tribe-events-content entry-summary description\">\n",
            "<p>Yogi Lunch In our fourth Yogi Lunch, Niranjan and Nimrat invite you to contemplate on love with us. What a great theme for an inspiring lunch! ♡ We look forward to hearing from you in the comments or exchanging ideas with you directly in the live video.ツ Have you missed our last Yogi Lunch? Enjoy the recording here. Yogi Lunch EP 4 with Niranjan &amp; Nimrat (German and more) 17th February 2021, 11:30am – 12:30pm (London) Instagram Live</p>\n",
            "</div>\n",
            "</div>, <div class=\"tribe-events-event-details tribe-clearfix \">\n",
            "<!-- Event Title -->\n",
            "<h4 class=\"tribe-events-list-event-title entry-title summary\">\n",
            "<a class=\"url\" href=\"https://www.naadyogacouncil.com/en/event-single/be-in-tune-sidak-kaur/2021-02-17/\" rel=\"bookmark\" title=\"Be in Tune • Sidak Kaur\">\n",
            "\t\t\tBe in Tune • Sidak Kaur\t\t</a>\n",
            "</h4>\n",
            "<!-- Event Content -->\n",
            "<div class=\"tribe-events-list-photo-description tribe-events-content entry-summary description\">\n",
            "<p>Be in Tune When we are perfectly tuned like a musical instrument, we feel connected, healthy and happy – able to cope with all challenges in life. However, pressure and daily challenges get us out of this perfect tune. If we are out of tune in any way, we feel stressed, lacking in energy or even sick. This is exactly where Naad Yoga comes in. Through the targeted application of sound and music – rhythms, tones and melodies – we…</p>\n",
            "</div>\n",
            "</div>, <div class=\"tribe-events-event-details tribe-clearfix \">\n",
            "<!-- Event Title -->\n",
            "<h4 class=\"tribe-events-list-event-title entry-title summary\">\n",
            "<a class=\"url\" href=\"https://www.naadyogacouncil.com/en/event-single/sounds-of-life-2/\" rel=\"bookmark\" title=\"Sounds of Life Workshop • Harsaran and Niranjan\">\n",
            "\t\t\tSounds of Life Workshop • Harsaran and Niranjan\t\t</a>\n",
            "</h4>\n",
            "<!-- Event Content -->\n",
            "<div class=\"tribe-events-list-photo-description tribe-events-content entry-summary description\">\n",
            "<p>Sounds of Life Workshop LOVE Love – a beautiful word that we all know. Love – a great feeling that we all know. So, is it simple? What is love, what is love to you? It’s amazing that each of us describes and feels it very differently. We would like to immerse ourselves in the feeling of love with you, created through the pure sound of love itself. Together we feel and experience this Raag, this mood of love. The…</p>\n",
            "</div>\n",
            "</div>, <div class=\"tribe-events-event-details tribe-clearfix \">\n",
            "<!-- Event Title -->\n",
            "<h4 class=\"tribe-events-list-event-title entry-title summary\">\n",
            "<a class=\"url\" href=\"https://www.naadyogacouncil.com/en/event-single/be-in-tune-sidak-kaur/2021-02-24/\" rel=\"bookmark\" title=\"Be in Tune • Sidak Kaur\">\n",
            "\t\t\tBe in Tune • Sidak Kaur\t\t</a>\n",
            "</h4>\n",
            "<!-- Event Content -->\n",
            "<div class=\"tribe-events-list-photo-description tribe-events-content entry-summary description\">\n",
            "<p>Be in Tune When we are perfectly tuned like a musical instrument, we feel connected, healthy and happy – able to cope with all challenges in life. However, pressure and daily challenges get us out of this perfect tune. If we are out of tune in any way, we feel stressed, lacking in energy or even sick. This is exactly where Naad Yoga comes in. Through the targeted application of sound and music – rhythms, tones and melodies – we…</p>\n",
            "</div>\n",
            "</div>, <div class=\"tribe-events-event-details tribe-clearfix \">\n",
            "<!-- Event Title -->\n",
            "<h4 class=\"tribe-events-list-event-title entry-title summary\">\n",
            "<a class=\"url\" href=\"https://www.naadyogacouncil.com/en/event-single/be-in-tune-sidak-kaur/2021-03-03/\" rel=\"bookmark\" title=\"Be in Tune • Sidak Kaur\">\n",
            "\t\t\tBe in Tune • Sidak Kaur\t\t</a>\n",
            "</h4>\n",
            "<!-- Event Content -->\n",
            "<div class=\"tribe-events-list-photo-description tribe-events-content entry-summary description\">\n",
            "<p>Be in Tune When we are perfectly tuned like a musical instrument, we feel connected, healthy and happy – able to cope with all challenges in life. However, pressure and daily challenges get us out of this perfect tune. If we are out of tune in any way, we feel stressed, lacking in energy or even sick. This is exactly where Naad Yoga comes in. Through the targeted application of sound and music – rhythms, tones and melodies – we…</p>\n",
            "</div>\n",
            "</div>, <div class=\"tribe-events-event-details tribe-clearfix \">\n",
            "<!-- Event Title -->\n",
            "<h4 class=\"tribe-events-list-event-title entry-title summary\">\n",
            "<a class=\"url\" href=\"https://www.naadyogacouncil.com/en/event-single/be-in-tune-sidak-kaur/2021-03-10/\" rel=\"bookmark\" title=\"Be in Tune • Sidak Kaur\">\n",
            "\t\t\tBe in Tune • Sidak Kaur\t\t</a>\n",
            "</h4>\n",
            "<!-- Event Content -->\n",
            "<div class=\"tribe-events-list-photo-description tribe-events-content entry-summary description\">\n",
            "<p>Be in Tune When we are perfectly tuned like a musical instrument, we feel connected, healthy and happy – able to cope with all challenges in life. However, pressure and daily challenges get us out of this perfect tune. If we are out of tune in any way, we feel stressed, lacking in energy or even sick. This is exactly where Naad Yoga comes in. Through the targeted application of sound and music – rhythms, tones and melodies – we…</p>\n",
            "</div>\n",
            "</div>, <div class=\"tribe-events-event-details tribe-clearfix \">\n",
            "<!-- Event Title -->\n",
            "<h4 class=\"tribe-events-list-event-title entry-title summary\">\n",
            "<a class=\"url\" href=\"https://www.naadyogacouncil.com/en/event-single/be-in-tune-sidak-kaur/2021-03-17/\" rel=\"bookmark\" title=\"Be in Tune • Sidak Kaur\">\n",
            "\t\t\tBe in Tune • Sidak Kaur\t\t</a>\n",
            "</h4>\n",
            "<!-- Event Content -->\n",
            "<div class=\"tribe-events-list-photo-description tribe-events-content entry-summary description\">\n",
            "<p>Be in Tune When we are perfectly tuned like a musical instrument, we feel connected, healthy and happy – able to cope with all challenges in life. However, pressure and daily challenges get us out of this perfect tune. If we are out of tune in any way, we feel stressed, lacking in energy or even sick. This is exactly where Naad Yoga comes in. Through the targeted application of sound and music – rhythms, tones and melodies – we…</p>\n",
            "</div>\n",
            "</div>, <div class=\"tribe-events-event-details tribe-clearfix \">\n",
            "<!-- Event Title -->\n",
            "<h4 class=\"tribe-events-list-event-title entry-title summary\">\n",
            "<a class=\"url\" href=\"https://www.naadyogacouncil.com/en/event-single/be-in-tune-sidak-kaur/2021-03-24/\" rel=\"bookmark\" title=\"Be in Tune • Sidak Kaur\">\n",
            "\t\t\tBe in Tune • Sidak Kaur\t\t</a>\n",
            "</h4>\n",
            "<!-- Event Content -->\n",
            "<div class=\"tribe-events-list-photo-description tribe-events-content entry-summary description\">\n",
            "<p>Be in Tune When we are perfectly tuned like a musical instrument, we feel connected, healthy and happy – able to cope with all challenges in life. However, pressure and daily challenges get us out of this perfect tune. If we are out of tune in any way, we feel stressed, lacking in energy or even sick. This is exactly where Naad Yoga comes in. Through the targeted application of sound and music – rhythms, tones and melodies – we…</p>\n",
            "</div>\n",
            "</div>]\n"
          ],
          "name": "stdout"
        }
      ]
    },
    {
      "cell_type": "code",
      "metadata": {
        "id": "WVecJ-sDYjjW"
      },
      "source": [
        "url='https://www.naadyogacouncil.com/en/events/liste/?tribe_paged=1&tribe_event_display=list'\r\n",
        "r=requests.get(url)\r\n",
        "soup=BeautifulSoup(r.content,'lxml')\r\n",
        "list=soup.find_all('div',class_='tribe-events-event-details tribe-clearfix ')\r\n",
        "for link in soup.find_all('a',href=True):\r\n",
        "    dummy.append(link['href'])\r\n",
        "    \r\n",
        "\r\n",
        "\r\n"
      ],
      "execution_count": 112,
      "outputs": []
    },
    {
      "cell_type": "code",
      "metadata": {
        "id": "xQDH-ap1ZF42"
      },
      "source": [
        "url='https://www.naadyogacouncil.com/en/events/liste/?tribe_paged=1&tribe_event_display=list'\r\n",
        "r=requests.get(url)\r\n",
        "soup=BeautifulSoup(r.content,'lxml')\r\n",
        "list=soup.find_all('div',class_='tribe-events-event-details tribe-clearfix ')\r\n",
        "for item in list:\r\n",
        "  for link in item.find_all('h4'):\r\n",
        "    dummy.append(link.text)"
      ],
      "execution_count": 104,
      "outputs": []
    },
    {
      "cell_type": "code",
      "metadata": {
        "id": "oYt8Ii7nr2mA"
      },
      "source": [
        "dummy=[]\r\n"
      ],
      "execution_count": 111,
      "outputs": []
    },
    {
      "cell_type": "code",
      "metadata": {
        "id": "xapWsmXzb9F9"
      },
      "source": [
        "url='https://www.naadyogacouncil.com/en/events/liste/?tribe_paged=1&tribe_event_display=list'\r\n",
        "r=requests.get(url)\r\n",
        "a=[]\r\n",
        "soup=BeautifulSoup(r.content,'lxml')\r\n",
        "list=soup.find_all('div',class_='small-event-header clearfix ')\r\n",
        "for item in list:\r\n",
        "  a.append(item.text)"
      ],
      "execution_count": 72,
      "outputs": []
    },
    {
      "cell_type": "code",
      "metadata": {
        "colab": {
          "base_uri": "https://localhost:8080/"
        },
        "id": "OaNzjYv_sBFo",
        "outputId": "6e4cac94-bb88-4685-f203-83247e848565"
      },
      "source": [
        "title"
      ],
      "execution_count": 110,
      "outputs": [
        {
          "output_type": "execute_result",
          "data": {
            "text/plain": [
              "['BeinTune•SidakKaur',\n",
              " 'KirtanSeva•NiranjanKaur',\n",
              " 'YogiLunchEP4•Niranjan&Nimrat',\n",
              " 'BeinTune•SidakKaur',\n",
              " 'SoundsofLifeWorkshop•HarsaranandNiranjan',\n",
              " 'BeinTune•SidakKaur',\n",
              " 'BeinTune•SidakKaur',\n",
              " 'BeinTune•SidakKaur',\n",
              " 'BeinTune•SidakKaur',\n",
              " 'BeinTune•SidakKaur']"
            ]
          },
          "metadata": {
            "tags": []
          },
          "execution_count": 110
        }
      ]
    },
    {
      "cell_type": "code",
      "metadata": {
        "id": "hbAn_gUnsTlo"
      },
      "source": [
        "for i in range(0,10):\r\n",
        "  url.append(remove(dummy[i]))"
      ],
      "execution_count": 115,
      "outputs": []
    },
    {
      "cell_type": "code",
      "metadata": {
        "colab": {
          "base_uri": "https://localhost:8080/"
        },
        "id": "Ry3btds-sDp8",
        "outputId": "af362360-242c-4e7b-ff67-f92556503bb0"
      },
      "source": [
        "url"
      ],
      "execution_count": 116,
      "outputs": [
        {
          "output_type": "execute_result",
          "data": {
            "text/plain": [
              "['https://www.naadyogacouncil.com/en/event-single/be-in-tune-sidak-kaur/2021-02-10/',\n",
              " 'https://www.naadyogacouncil.com/en/event-single/kirtan-seva-3/',\n",
              " 'https://www.naadyogacouncil.com/en/event-single/yogi-lunch-4/',\n",
              " 'https://www.naadyogacouncil.com/en/event-single/be-in-tune-sidak-kaur/2021-02-17/',\n",
              " 'https://www.naadyogacouncil.com/en/event-single/sounds-of-life-2/',\n",
              " 'https://www.naadyogacouncil.com/en/event-single/be-in-tune-sidak-kaur/2021-02-24/',\n",
              " 'https://www.naadyogacouncil.com/en/event-single/be-in-tune-sidak-kaur/2021-03-03/',\n",
              " 'https://www.naadyogacouncil.com/en/event-single/be-in-tune-sidak-kaur/2021-03-10/',\n",
              " 'https://www.naadyogacouncil.com/en/event-single/be-in-tune-sidak-kaur/2021-03-17/',\n",
              " 'https://www.naadyogacouncil.com/en/event-single/be-in-tune-sidak-kaur/2021-03-24/']"
            ]
          },
          "metadata": {
            "tags": []
          },
          "execution_count": 116
        }
      ]
    },
    {
      "cell_type": "code",
      "metadata": {
        "id": "ld0LI7v6gqZl"
      },
      "source": [
        "b=[]\r\n",
        "for i in range(0,10):\r\n",
        "  b.append(remove(a[i]))\r\n",
        "  "
      ],
      "execution_count": 89,
      "outputs": []
    },
    {
      "cell_type": "code",
      "metadata": {
        "id": "enZs9MQAhSKw"
      },
      "source": [
        "def remove(string): \r\n",
        "    c=string.replace(\" \", \"\") \r\n",
        "    d=c.replace(\"\\n\",\"\")\r\n",
        "    return d.replace(\"\\t\",\"\")"
      ],
      "execution_count": 107,
      "outputs": []
    },
    {
      "cell_type": "code",
      "metadata": {
        "colab": {
          "base_uri": "https://localhost:8080/"
        },
        "id": "HpgtJsm6iW4B",
        "outputId": "4b1c553f-2532-4215-b350-5a8b28519bbb"
      },
      "source": [
        "b"
      ],
      "execution_count": 90,
      "outputs": [
        {
          "output_type": "execute_result",
          "data": {
            "text/plain": [
              "['10February19:00—20:30@Mehr->',\n",
              " '15February19:00—20:00@OnlineYouTubeMehr->',\n",
              " '17February11:30—12:30@Mehr->',\n",
              " '17February19:00—20:30@Mehr->',\n",
              " '20February10:00—11:30@OnlineZoomMehr->',\n",
              " '24February19:00—20:30@Mehr->',\n",
              " '03March19:00—20:30@Mehr->',\n",
              " '10March19:00—20:30@Mehr->',\n",
              " '17March19:00—20:30@Mehr->',\n",
              " '24March19:00—20:30@Mehr->']"
            ]
          },
          "metadata": {
            "tags": []
          },
          "execution_count": 90
        }
      ]
    },
    {
      "cell_type": "code",
      "metadata": {
        "colab": {
          "base_uri": "https://localhost:8080/",
          "height": 128
        },
        "id": "rz8mrrYEjba2",
        "outputId": "44e75ed3-e695-4397-c5e6-d8b06587307b"
      },
      "source": [
        "#con.execute(\"create table hr (password TEXT)\")\r\n"
      ],
      "execution_count": 92,
      "outputs": [
        {
          "output_type": "error",
          "ename": "SyntaxError",
          "evalue": "ignored",
          "traceback": [
            "\u001b[0;36m  File \u001b[0;32m\"<ipython-input-92-b8594eefdf02>\"\u001b[0;36m, line \u001b[0;32m1\u001b[0m\n\u001b[0;31m    CREATE TABLE interesting_url(\u001b[0m\n\u001b[0m               ^\u001b[0m\n\u001b[0;31mSyntaxError\u001b[0m\u001b[0;31m:\u001b[0m invalid syntax\n"
          ]
        }
      ]
    },
    {
      "cell_type": "code",
      "metadata": {
        "id": "IDsAASh0nu57"
      },
      "source": [
        "import sqlite3"
      ],
      "execution_count": 91,
      "outputs": []
    },
    {
      "cell_type": "code",
      "metadata": {
        "colab": {
          "base_uri": "https://localhost:8080/",
          "height": 128
        },
        "id": "Nkj1Svysn06C",
        "outputId": "4b0f60e9-cebe-4b2c-8cc6-c9702f7e93ce"
      },
      "source": [
        "sqlite3 'https://www.naadyogacouncil.com'.db\r\n"
      ],
      "execution_count": 94,
      "outputs": [
        {
          "output_type": "error",
          "ename": "SyntaxError",
          "evalue": "ignored",
          "traceback": [
            "\u001b[0;36m  File \u001b[0;32m\"<ipython-input-94-ae138b584358>\"\u001b[0;36m, line \u001b[0;32m1\u001b[0m\n\u001b[0;31m    sqlite3 'https://www.naadyogacouncil.com'.db\u001b[0m\n\u001b[0m                                            ^\u001b[0m\n\u001b[0;31mSyntaxError\u001b[0m\u001b[0;31m:\u001b[0m invalid syntax\n"
          ]
        }
      ]
    },
    {
      "cell_type": "code",
      "metadata": {
        "id": "i8S7WZAKovss"
      },
      "source": [
        "con = sqlite3.connect(\"2ndnon.db\")"
      ],
      "execution_count": 130,
      "outputs": []
    },
    {
      "cell_type": "code",
      "metadata": {
        "colab": {
          "base_uri": "https://localhost:8080/"
        },
        "id": "ILN-bVOYo_Jr",
        "outputId": "ef80dfc1-1954-43dd-9959-d2f4afc43b4f"
      },
      "source": [
        "con.execute(\"create table interesting_url (title TEXT,timings TEXT,url TEXT)\")\r\n"
      ],
      "execution_count": 98,
      "outputs": [
        {
          "output_type": "execute_result",
          "data": {
            "text/plain": [
              "<sqlite3.Cursor at 0x7f5a518fb420>"
            ]
          },
          "metadata": {
            "tags": []
          },
          "execution_count": 98
        }
      ]
    },
    {
      "cell_type": "code",
      "metadata": {
        "id": "5NfTfYOoq4jL"
      },
      "source": [
        "con.commit()"
      ],
      "execution_count": 99,
      "outputs": []
    },
    {
      "cell_type": "code",
      "metadata": {
        "id": "_kzrl9YFrJe9"
      },
      "source": [
        "for i in range(0,10):\r\n",
        "  con = sqlite3.connect(\"2nd.db\")\r\n",
        "  cur = con.cursor()\r\n",
        "  cur.execute(\"INSERT into interesting_url (title,timings,url) values (?,?,?)\", (title[i],b[i],url[i]))\r\n",
        "  con.commit()"
      ],
      "execution_count": 119,
      "outputs": []
    },
    {
      "cell_type": "code",
      "metadata": {
        "id": "SOmnenkGuDbS"
      },
      "source": [
        "url='https://www.naadyogacouncil.com/en/events/liste/?tribe_paged=1&tribe_event_display=list'\r\n",
        "r=requests.get(url)\r\n",
        "soup=BeautifulSoup(r.content,'lxml')\r\n",
        "for link in soup.find_all('a',href=True):\r\n",
        "    dummy.append(link['href'])"
      ],
      "execution_count": 123,
      "outputs": []
    },
    {
      "cell_type": "code",
      "metadata": {
        "id": "AmfHTQTKxLzx"
      },
      "source": [
        "for i in range(0,len(dummy)):\r\n",
        "  non_url.append(remove(dummy[i]))"
      ],
      "execution_count": 124,
      "outputs": []
    },
    {
      "cell_type": "code",
      "metadata": {
        "id": "yLreTUsqxqd2"
      },
      "source": [
        "dummy"
      ],
      "execution_count": 121,
      "outputs": []
    },
    {
      "cell_type": "code",
      "metadata": {
        "colab": {
          "base_uri": "https://localhost:8080/"
        },
        "id": "9DJsIY63xqk9",
        "outputId": "b356f1e2-3718-4e9a-c2ed-ee2096ef497e"
      },
      "source": [
        "non_url"
      ],
      "execution_count": 125,
      "outputs": [
        {
          "output_type": "execute_result",
          "data": {
            "text/plain": [
              "['#',\n",
              " 'https://www.naadyogacouncil.com/en/',\n",
              " 'https://www.naadyogacouncil.com/?page_id=6975',\n",
              " '#main',\n",
              " 'https://www.naadyogacouncil.com/en/',\n",
              " 'https://www.naadyogacouncil.com/en/about-us/',\n",
              " 'https://www.naadyogacouncil.com/en/about-us/association/',\n",
              " 'https://www.naadyogacouncil.com/en/about-us/mission-statement/',\n",
              " 'https://www.naadyogacouncil.com/en/about-us/yogi-of-sound/',\n",
              " 'https://www.naadyogacouncil.com/en/about-us/core-team/',\n",
              " 'https://www.naadyogacouncil.com/en/about-us/become-a-member/',\n",
              " 'https://www.naadyogacouncil.com/en/about-us/donations/',\n",
              " 'https://www.naadyogacouncil.com/en/naad-yoga/what-is-naad-yoga/',\n",
              " 'https://www.naadyogacouncil.com/en/naad-yoga/what-is-naad-yoga/',\n",
              " 'https://www.naadyogacouncil.com/en/naad-yoga/naad-yoga-teacher-training/',\n",
              " 'https://www.naadyogacouncil.com/en/naad-yoga/naad-yoga-coaching/',\n",
              " 'https://www.naadyogacouncil.com/en/sound-therapy/what-is-sound-therapy/',\n",
              " 'https://www.naadyogacouncil.com/en/sound-therapy/what-is-sound-therapy/',\n",
              " 'https://www.naadyogacouncil.com/en/sound-therapy/sound-therapist-course/',\n",
              " 'https://www.naadyogacouncil.com/en/sound-therapy/naad-yoga-sound-therapy/',\n",
              " 'https://www.naadyogacouncil.com/en/teachers-and-therapists/',\n",
              " 'https://www.naadyogacouncil.com/en/offers/course-programmes/',\n",
              " 'https://www.naadyogacouncil.com/en/offers/course-programmes/',\n",
              " 'https://www.naadyogacouncil.com/en/offers/course-programmes/the-masters-path/',\n",
              " 'https://www.naadyogacouncil.com/en/offers/course-programmes/soundflow/',\n",
              " 'https://www.naadyogacouncil.com/en/offers/community-projects/',\n",
              " 'https://www.naadyogacouncil.com/en/offers/community-projects/prison-project/',\n",
              " 'https://www.naadyogacouncil.com/en/offers/community-projects/hospital-project/',\n",
              " 'https://www.naadyogacouncil.com/en/offers/education-projects/',\n",
              " 'https://www.naadyogacouncil.com/en/offers/education-projects/rababi-550/',\n",
              " 'https://www.naadyogacouncil.com/en/offers/education-projects/academic-courses/',\n",
              " 'https://www.naadyogacouncil.com/en/offers/education-projects/further-training-for-educators/',\n",
              " 'https://www.naadyogacouncil.com/en/offers/concerts/',\n",
              " 'https://www.naadyogacouncil.com/en/offers/healing-circles/',\n",
              " 'https://www.naadyogacouncil.com/en/events/',\n",
              " 'https://www.naadyogacouncil.com/en/contact-us/',\n",
              " 'https://www.naadyogacouncil.com/en/contact-us/',\n",
              " 'https://www.naadyogacouncil.com/en/contact-us/newsletter/',\n",
              " 'https://www.naadyogacouncil.com/en/contact-us/imprint/',\n",
              " 'https://www.naadyogacouncil.com/en/contact-us/data-protection/',\n",
              " 'https://www.naadyogacouncil.com/en/events/liste/?tribe_paged=1&tribe_event_display=list',\n",
              " 'https://www.naadyogacouncil.com/events/liste/?tribe_paged=1&tribe_event_display=list',\n",
              " 'https://www.naadyogacouncil.com/es/events/liste/?tribe_paged=1&tribe_event_display=list',\n",
              " '#',\n",
              " 'https://www.naadyogacouncil.com/en/events/list/?tribe_event_display=past&tribe_paged=1',\n",
              " 'https://www.naadyogacouncil.com/en/events/list/?tribe_event_display=list&tribe_paged=2',\n",
              " 'https://www.naadyogacouncil.com/en/event-single/be-in-tune-sidak-kaur/2021-02-10/',\n",
              " 'https://www.naadyogacouncil.com/en/event-single/be-in-tune-sidak-kaur/2021-02-10/',\n",
              " 'https://www.naadyogacouncil.com/en/event-single/be-in-tune-sidak-kaur/2021-02-10/',\n",
              " 'https://www.naadyogacouncil.com/en/event-single/be-in-tune-sidak-kaur/2021-02-10/',\n",
              " 'https://www.naadyogacouncil.com/en/event-single/kirtan-seva-3/',\n",
              " 'https://www.naadyogacouncil.com/venue/online-youtube/',\n",
              " 'https://www.naadyogacouncil.com/en/event-single/kirtan-seva-3/',\n",
              " 'https://www.naadyogacouncil.com/en/event-single/kirtan-seva-3/',\n",
              " 'https://www.naadyogacouncil.com/en/event-single/kirtan-seva-3/',\n",
              " 'https://www.naadyogacouncil.com/en/event-single/yogi-lunch-4/',\n",
              " 'https://www.naadyogacouncil.com/en/event-single/yogi-lunch-4/',\n",
              " 'https://www.naadyogacouncil.com/en/event-single/yogi-lunch-4/',\n",
              " 'https://www.naadyogacouncil.com/en/event-single/yogi-lunch-4/',\n",
              " 'https://www.naadyogacouncil.com/en/event-single/be-in-tune-sidak-kaur/2021-02-17/',\n",
              " 'https://www.naadyogacouncil.com/en/event-single/be-in-tune-sidak-kaur/2021-02-17/',\n",
              " 'https://www.naadyogacouncil.com/en/event-single/be-in-tune-sidak-kaur/2021-02-17/',\n",
              " 'https://www.naadyogacouncil.com/en/event-single/be-in-tune-sidak-kaur/2021-02-17/',\n",
              " 'https://www.naadyogacouncil.com/en/event-single/sounds-of-life-2/',\n",
              " 'https://www.naadyogacouncil.com/venue/online-zoom/',\n",
              " 'https://www.naadyogacouncil.com/en/event-single/sounds-of-life-2/',\n",
              " 'https://www.naadyogacouncil.com/en/event-single/sounds-of-life-2/',\n",
              " 'https://www.naadyogacouncil.com/en/event-single/sounds-of-life-2/',\n",
              " 'https://www.naadyogacouncil.com/en/event-single/be-in-tune-sidak-kaur/2021-02-24/',\n",
              " 'https://www.naadyogacouncil.com/en/event-single/be-in-tune-sidak-kaur/2021-02-24/',\n",
              " 'https://www.naadyogacouncil.com/en/event-single/be-in-tune-sidak-kaur/2021-02-24/',\n",
              " 'https://www.naadyogacouncil.com/en/event-single/be-in-tune-sidak-kaur/2021-02-24/',\n",
              " 'https://www.naadyogacouncil.com/en/event-single/be-in-tune-sidak-kaur/2021-03-03/',\n",
              " 'https://www.naadyogacouncil.com/en/event-single/be-in-tune-sidak-kaur/2021-03-03/',\n",
              " 'https://www.naadyogacouncil.com/en/event-single/be-in-tune-sidak-kaur/2021-03-03/',\n",
              " 'https://www.naadyogacouncil.com/en/event-single/be-in-tune-sidak-kaur/2021-03-03/',\n",
              " 'https://www.naadyogacouncil.com/en/event-single/be-in-tune-sidak-kaur/2021-03-10/',\n",
              " 'https://www.naadyogacouncil.com/en/event-single/be-in-tune-sidak-kaur/2021-03-10/',\n",
              " 'https://www.naadyogacouncil.com/en/event-single/be-in-tune-sidak-kaur/2021-03-10/',\n",
              " 'https://www.naadyogacouncil.com/en/event-single/be-in-tune-sidak-kaur/2021-03-10/',\n",
              " 'https://www.naadyogacouncil.com/en/event-single/be-in-tune-sidak-kaur/2021-03-17/',\n",
              " 'https://www.naadyogacouncil.com/en/event-single/be-in-tune-sidak-kaur/2021-03-17/',\n",
              " 'https://www.naadyogacouncil.com/en/event-single/be-in-tune-sidak-kaur/2021-03-17/',\n",
              " 'https://www.naadyogacouncil.com/en/event-single/be-in-tune-sidak-kaur/2021-03-17/',\n",
              " 'https://www.naadyogacouncil.com/en/event-single/be-in-tune-sidak-kaur/2021-03-24/',\n",
              " 'https://www.naadyogacouncil.com/en/event-single/be-in-tune-sidak-kaur/2021-03-24/',\n",
              " 'https://www.naadyogacouncil.com/en/event-single/be-in-tune-sidak-kaur/2021-03-24/',\n",
              " 'https://www.naadyogacouncil.com/en/event-single/be-in-tune-sidak-kaur/2021-03-24/',\n",
              " 'https://www.naadyogacouncil.com/en/events/list/?tribe_event_display=past&tribe_paged=1',\n",
              " 'https://www.naadyogacouncil.com/en/events/list/?tribe_event_display=list&tribe_paged=2',\n",
              " 'https://www.naadyogacouncil.com/en/events/?ical=1',\n",
              " 'https://www.naadyogacouncil.com/en/',\n",
              " 'https://www.naadyogacouncil.com/en/contact-us/',\n",
              " 'https://www.naadyogacouncil.com/en/contact-us/newsletter/',\n",
              " 'https://www.naadyogacouncil.com/en/contact-us/data-protection/',\n",
              " 'https://www.naadyogacouncil.com/en/contact-us/imprint/',\n",
              " 'https://www.facebook.com/sharer/sharer.php?u=https%3A%2F%2Fwww.naadyogacouncil.com%2Fen%2Fevents%2Fliste%2F%3Ftribe_paged%3D1%26tribe_event_display%3Dlist',\n",
              " 'https://twitter.com/share?url=https%3A%2F%2Fwww.naadyogacouncil.com%2Fen%2Fevents%2Fliste%2F%3Ftribe_paged%3D1%26tribe_event_display%3Dlist&text=Veranstaltungen%20%E2%80%93%20Naadyoga%20Council',\n",
              " 'https://www.linkedin.com/shareArticle?mini=true&url=https%3A%2F%2Fwww.naadyogacouncil.com%2Fen%2Fevents%2Fliste%2F%3Ftribe_paged%3D1%26tribe_event_display%3Dlist&title=Veranstaltungen%20%E2%80%93%20Naadyoga%20Council',\n",
              " 'https://telegram.me/share/url?url=https%3A%2F%2Fwww.naadyogacouncil.com%2Fen%2Fevents%2Fliste%2F%3Ftribe_paged%3D1%26tribe_event_display%3Dlist&text=Veranstaltungen%20%E2%80%93%20Naadyoga%20Council',\n",
              " 'threema://compose?text=Veranstaltungen%20%E2%80%93%20Naadyoga%20Council%20https%3A%2F%2Fwww.naadyogacouncil.com%2Fen%2Fevents%2Fliste%2F%3Ftribe_paged%3D1%26tribe_event_display%3Dlist',\n",
              " 'https://api.whatsapp.com/send?text=https%3A%2F%2Fwww.naadyogacouncil.com%2Fen%2Fevents%2Fliste%2F%3Ftribe_paged%3D1%26tribe_event_display%3Dlist%20Veranstaltungen%20%E2%80%93%20Naadyoga%20Council',\n",
              " 'mailto:?body=https%3A%2F%2Fwww.naadyogacouncil.com%2Fen%2Fevents%2Fliste%2F%3Ftribe_paged%3D1%26tribe_event_display%3Dlist&subject=Veranstaltungen%20%E2%80%93%20Naadyoga%20Council',\n",
              " '/',\n",
              " '/',\n",
              " 'https:/naadyogacouncil.com/',\n",
              " '#',\n",
              " '#',\n",
              " '#',\n",
              " '#',\n",
              " '#',\n",
              " '#']"
            ]
          },
          "metadata": {
            "tags": []
          },
          "execution_count": 125
        }
      ]
    },
    {
      "cell_type": "code",
      "metadata": {
        "colab": {
          "base_uri": "https://localhost:8080/"
        },
        "id": "9HDcrYzkxqo2",
        "outputId": "e591c6d7-3ad8-44c1-8d11-df1067e44dd1"
      },
      "source": [
        "len(non_url)"
      ],
      "execution_count": 126,
      "outputs": [
        {
          "output_type": "execute_result",
          "data": {
            "text/plain": [
              "112"
            ]
          },
          "metadata": {
            "tags": []
          },
          "execution_count": 126
        }
      ]
    },
    {
      "cell_type": "code",
      "metadata": {
        "colab": {
          "base_uri": "https://localhost:8080/"
        },
        "id": "ac_6kPCEyeeD",
        "outputId": "0c8a4f74-92ca-42b0-b951-418726379643"
      },
      "source": [
        "non_url[:106]"
      ],
      "execution_count": 127,
      "outputs": [
        {
          "output_type": "execute_result",
          "data": {
            "text/plain": [
              "['#',\n",
              " 'https://www.naadyogacouncil.com/en/',\n",
              " 'https://www.naadyogacouncil.com/?page_id=6975',\n",
              " '#main',\n",
              " 'https://www.naadyogacouncil.com/en/',\n",
              " 'https://www.naadyogacouncil.com/en/about-us/',\n",
              " 'https://www.naadyogacouncil.com/en/about-us/association/',\n",
              " 'https://www.naadyogacouncil.com/en/about-us/mission-statement/',\n",
              " 'https://www.naadyogacouncil.com/en/about-us/yogi-of-sound/',\n",
              " 'https://www.naadyogacouncil.com/en/about-us/core-team/',\n",
              " 'https://www.naadyogacouncil.com/en/about-us/become-a-member/',\n",
              " 'https://www.naadyogacouncil.com/en/about-us/donations/',\n",
              " 'https://www.naadyogacouncil.com/en/naad-yoga/what-is-naad-yoga/',\n",
              " 'https://www.naadyogacouncil.com/en/naad-yoga/what-is-naad-yoga/',\n",
              " 'https://www.naadyogacouncil.com/en/naad-yoga/naad-yoga-teacher-training/',\n",
              " 'https://www.naadyogacouncil.com/en/naad-yoga/naad-yoga-coaching/',\n",
              " 'https://www.naadyogacouncil.com/en/sound-therapy/what-is-sound-therapy/',\n",
              " 'https://www.naadyogacouncil.com/en/sound-therapy/what-is-sound-therapy/',\n",
              " 'https://www.naadyogacouncil.com/en/sound-therapy/sound-therapist-course/',\n",
              " 'https://www.naadyogacouncil.com/en/sound-therapy/naad-yoga-sound-therapy/',\n",
              " 'https://www.naadyogacouncil.com/en/teachers-and-therapists/',\n",
              " 'https://www.naadyogacouncil.com/en/offers/course-programmes/',\n",
              " 'https://www.naadyogacouncil.com/en/offers/course-programmes/',\n",
              " 'https://www.naadyogacouncil.com/en/offers/course-programmes/the-masters-path/',\n",
              " 'https://www.naadyogacouncil.com/en/offers/course-programmes/soundflow/',\n",
              " 'https://www.naadyogacouncil.com/en/offers/community-projects/',\n",
              " 'https://www.naadyogacouncil.com/en/offers/community-projects/prison-project/',\n",
              " 'https://www.naadyogacouncil.com/en/offers/community-projects/hospital-project/',\n",
              " 'https://www.naadyogacouncil.com/en/offers/education-projects/',\n",
              " 'https://www.naadyogacouncil.com/en/offers/education-projects/rababi-550/',\n",
              " 'https://www.naadyogacouncil.com/en/offers/education-projects/academic-courses/',\n",
              " 'https://www.naadyogacouncil.com/en/offers/education-projects/further-training-for-educators/',\n",
              " 'https://www.naadyogacouncil.com/en/offers/concerts/',\n",
              " 'https://www.naadyogacouncil.com/en/offers/healing-circles/',\n",
              " 'https://www.naadyogacouncil.com/en/events/',\n",
              " 'https://www.naadyogacouncil.com/en/contact-us/',\n",
              " 'https://www.naadyogacouncil.com/en/contact-us/',\n",
              " 'https://www.naadyogacouncil.com/en/contact-us/newsletter/',\n",
              " 'https://www.naadyogacouncil.com/en/contact-us/imprint/',\n",
              " 'https://www.naadyogacouncil.com/en/contact-us/data-protection/',\n",
              " 'https://www.naadyogacouncil.com/en/events/liste/?tribe_paged=1&tribe_event_display=list',\n",
              " 'https://www.naadyogacouncil.com/events/liste/?tribe_paged=1&tribe_event_display=list',\n",
              " 'https://www.naadyogacouncil.com/es/events/liste/?tribe_paged=1&tribe_event_display=list',\n",
              " '#',\n",
              " 'https://www.naadyogacouncil.com/en/events/list/?tribe_event_display=past&tribe_paged=1',\n",
              " 'https://www.naadyogacouncil.com/en/events/list/?tribe_event_display=list&tribe_paged=2',\n",
              " 'https://www.naadyogacouncil.com/en/event-single/be-in-tune-sidak-kaur/2021-02-10/',\n",
              " 'https://www.naadyogacouncil.com/en/event-single/be-in-tune-sidak-kaur/2021-02-10/',\n",
              " 'https://www.naadyogacouncil.com/en/event-single/be-in-tune-sidak-kaur/2021-02-10/',\n",
              " 'https://www.naadyogacouncil.com/en/event-single/be-in-tune-sidak-kaur/2021-02-10/',\n",
              " 'https://www.naadyogacouncil.com/en/event-single/kirtan-seva-3/',\n",
              " 'https://www.naadyogacouncil.com/venue/online-youtube/',\n",
              " 'https://www.naadyogacouncil.com/en/event-single/kirtan-seva-3/',\n",
              " 'https://www.naadyogacouncil.com/en/event-single/kirtan-seva-3/',\n",
              " 'https://www.naadyogacouncil.com/en/event-single/kirtan-seva-3/',\n",
              " 'https://www.naadyogacouncil.com/en/event-single/yogi-lunch-4/',\n",
              " 'https://www.naadyogacouncil.com/en/event-single/yogi-lunch-4/',\n",
              " 'https://www.naadyogacouncil.com/en/event-single/yogi-lunch-4/',\n",
              " 'https://www.naadyogacouncil.com/en/event-single/yogi-lunch-4/',\n",
              " 'https://www.naadyogacouncil.com/en/event-single/be-in-tune-sidak-kaur/2021-02-17/',\n",
              " 'https://www.naadyogacouncil.com/en/event-single/be-in-tune-sidak-kaur/2021-02-17/',\n",
              " 'https://www.naadyogacouncil.com/en/event-single/be-in-tune-sidak-kaur/2021-02-17/',\n",
              " 'https://www.naadyogacouncil.com/en/event-single/be-in-tune-sidak-kaur/2021-02-17/',\n",
              " 'https://www.naadyogacouncil.com/en/event-single/sounds-of-life-2/',\n",
              " 'https://www.naadyogacouncil.com/venue/online-zoom/',\n",
              " 'https://www.naadyogacouncil.com/en/event-single/sounds-of-life-2/',\n",
              " 'https://www.naadyogacouncil.com/en/event-single/sounds-of-life-2/',\n",
              " 'https://www.naadyogacouncil.com/en/event-single/sounds-of-life-2/',\n",
              " 'https://www.naadyogacouncil.com/en/event-single/be-in-tune-sidak-kaur/2021-02-24/',\n",
              " 'https://www.naadyogacouncil.com/en/event-single/be-in-tune-sidak-kaur/2021-02-24/',\n",
              " 'https://www.naadyogacouncil.com/en/event-single/be-in-tune-sidak-kaur/2021-02-24/',\n",
              " 'https://www.naadyogacouncil.com/en/event-single/be-in-tune-sidak-kaur/2021-02-24/',\n",
              " 'https://www.naadyogacouncil.com/en/event-single/be-in-tune-sidak-kaur/2021-03-03/',\n",
              " 'https://www.naadyogacouncil.com/en/event-single/be-in-tune-sidak-kaur/2021-03-03/',\n",
              " 'https://www.naadyogacouncil.com/en/event-single/be-in-tune-sidak-kaur/2021-03-03/',\n",
              " 'https://www.naadyogacouncil.com/en/event-single/be-in-tune-sidak-kaur/2021-03-03/',\n",
              " 'https://www.naadyogacouncil.com/en/event-single/be-in-tune-sidak-kaur/2021-03-10/',\n",
              " 'https://www.naadyogacouncil.com/en/event-single/be-in-tune-sidak-kaur/2021-03-10/',\n",
              " 'https://www.naadyogacouncil.com/en/event-single/be-in-tune-sidak-kaur/2021-03-10/',\n",
              " 'https://www.naadyogacouncil.com/en/event-single/be-in-tune-sidak-kaur/2021-03-10/',\n",
              " 'https://www.naadyogacouncil.com/en/event-single/be-in-tune-sidak-kaur/2021-03-17/',\n",
              " 'https://www.naadyogacouncil.com/en/event-single/be-in-tune-sidak-kaur/2021-03-17/',\n",
              " 'https://www.naadyogacouncil.com/en/event-single/be-in-tune-sidak-kaur/2021-03-17/',\n",
              " 'https://www.naadyogacouncil.com/en/event-single/be-in-tune-sidak-kaur/2021-03-17/',\n",
              " 'https://www.naadyogacouncil.com/en/event-single/be-in-tune-sidak-kaur/2021-03-24/',\n",
              " 'https://www.naadyogacouncil.com/en/event-single/be-in-tune-sidak-kaur/2021-03-24/',\n",
              " 'https://www.naadyogacouncil.com/en/event-single/be-in-tune-sidak-kaur/2021-03-24/',\n",
              " 'https://www.naadyogacouncil.com/en/event-single/be-in-tune-sidak-kaur/2021-03-24/',\n",
              " 'https://www.naadyogacouncil.com/en/events/list/?tribe_event_display=past&tribe_paged=1',\n",
              " 'https://www.naadyogacouncil.com/en/events/list/?tribe_event_display=list&tribe_paged=2',\n",
              " 'https://www.naadyogacouncil.com/en/events/?ical=1',\n",
              " 'https://www.naadyogacouncil.com/en/',\n",
              " 'https://www.naadyogacouncil.com/en/contact-us/',\n",
              " 'https://www.naadyogacouncil.com/en/contact-us/newsletter/',\n",
              " 'https://www.naadyogacouncil.com/en/contact-us/data-protection/',\n",
              " 'https://www.naadyogacouncil.com/en/contact-us/imprint/',\n",
              " 'https://www.facebook.com/sharer/sharer.php?u=https%3A%2F%2Fwww.naadyogacouncil.com%2Fen%2Fevents%2Fliste%2F%3Ftribe_paged%3D1%26tribe_event_display%3Dlist',\n",
              " 'https://twitter.com/share?url=https%3A%2F%2Fwww.naadyogacouncil.com%2Fen%2Fevents%2Fliste%2F%3Ftribe_paged%3D1%26tribe_event_display%3Dlist&text=Veranstaltungen%20%E2%80%93%20Naadyoga%20Council',\n",
              " 'https://www.linkedin.com/shareArticle?mini=true&url=https%3A%2F%2Fwww.naadyogacouncil.com%2Fen%2Fevents%2Fliste%2F%3Ftribe_paged%3D1%26tribe_event_display%3Dlist&title=Veranstaltungen%20%E2%80%93%20Naadyoga%20Council',\n",
              " 'https://telegram.me/share/url?url=https%3A%2F%2Fwww.naadyogacouncil.com%2Fen%2Fevents%2Fliste%2F%3Ftribe_paged%3D1%26tribe_event_display%3Dlist&text=Veranstaltungen%20%E2%80%93%20Naadyoga%20Council',\n",
              " 'threema://compose?text=Veranstaltungen%20%E2%80%93%20Naadyoga%20Council%20https%3A%2F%2Fwww.naadyogacouncil.com%2Fen%2Fevents%2Fliste%2F%3Ftribe_paged%3D1%26tribe_event_display%3Dlist',\n",
              " 'https://api.whatsapp.com/send?text=https%3A%2F%2Fwww.naadyogacouncil.com%2Fen%2Fevents%2Fliste%2F%3Ftribe_paged%3D1%26tribe_event_display%3Dlist%20Veranstaltungen%20%E2%80%93%20Naadyoga%20Council',\n",
              " 'mailto:?body=https%3A%2F%2Fwww.naadyogacouncil.com%2Fen%2Fevents%2Fliste%2F%3Ftribe_paged%3D1%26tribe_event_display%3Dlist&subject=Veranstaltungen%20%E2%80%93%20Naadyoga%20Council',\n",
              " '/',\n",
              " '/',\n",
              " 'https:/naadyogacouncil.com/']"
            ]
          },
          "metadata": {
            "tags": []
          },
          "execution_count": 127
        }
      ]
    },
    {
      "cell_type": "code",
      "metadata": {
        "colab": {
          "base_uri": "https://localhost:8080/"
        },
        "id": "2OJmGJ2zyq6E",
        "outputId": "120a69ee-6fa9-45ad-d8cc-a8d74d4387d3"
      },
      "source": [
        "con.execute(\"create table not_interesting_url (url TEXT)\")\r\n"
      ],
      "execution_count": 144,
      "outputs": [
        {
          "output_type": "execute_result",
          "data": {
            "text/plain": [
              "<sqlite3.Cursor at 0x7f5a51b24490>"
            ]
          },
          "metadata": {
            "tags": []
          },
          "execution_count": 144
        }
      ]
    },
    {
      "cell_type": "code",
      "metadata": {
        "id": "LH5rHD1czAXz"
      },
      "source": [
        "con.commit()"
      ],
      "execution_count": 146,
      "outputs": []
    },
    {
      "cell_type": "code",
      "metadata": {
        "id": "OQn5r4f_0Jx3"
      },
      "source": [
        "for i in range(1,106):\r\n",
        "  con = sqlite3.connect(\"non2nd.db\")\r\n",
        "  cur = con.cursor()\r\n",
        "  cur.execute(\"INSERT into not_interesting_url (url) values (?)\", (non_url[i],))\r\n",
        "  con.commit()"
      ],
      "execution_count": 151,
      "outputs": []
    },
    {
      "cell_type": "code",
      "metadata": {
        "id": "PLlcMW8z1Tjx"
      },
      "source": [
        "  con = sqlite3.connect(\"non2nd.db\")\r\n"
      ],
      "execution_count": 143,
      "outputs": []
    },
    {
      "cell_type": "code",
      "metadata": {
        "colab": {
          "base_uri": "https://localhost:8080/",
          "height": 35
        },
        "id": "nnDHcKF-2aPO",
        "outputId": "16a725a5-828a-49fa-e02b-90d948d8682f"
      },
      "source": [
        "non_url[0]"
      ],
      "execution_count": 149,
      "outputs": [
        {
          "output_type": "execute_result",
          "data": {
            "application/vnd.google.colaboratory.intrinsic+json": {
              "type": "string"
            },
            "text/plain": [
              "'#'"
            ]
          },
          "metadata": {
            "tags": []
          },
          "execution_count": 149
        }
      ]
    },
    {
      "cell_type": "code",
      "metadata": {
        "id": "vT6xm-PT26FN"
      },
      "source": [
        ""
      ],
      "execution_count": null,
      "outputs": []
    }
  ]
}
